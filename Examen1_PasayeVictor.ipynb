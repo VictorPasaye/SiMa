{
  "cells": [
    {
      "cell_type": "markdown",
      "id": "3d182c15",
      "metadata": {
        "id": "3d182c15"
      },
      "source": [
        "# Examen Módulo 1 - Optimización.\n",
        "\n",
        "**Lea cuidadosamente las siguientes indicaciones antes de comenzar el examen:**\n",
        "- Para resolver el examen edite este mismo archivo y renómbrelo de la siguiente manera: *Examen1_ApellidoNombre*, donde *ApellidoNombre* corresponde a su apellido paterno con la inicial en mayúscula, seguido de su primer nombre con la inicial en mayúscula **sin acentos**. Por ejemplo, en mi caso el nombre del archivo sería *Examen1_ArellanoCarlos*.\n",
        "- Resuelva los puntos en el espacio provisto. Si requiere agregar más celdas para código o escritura, hágalo (`Esc`,`B`) o (`Esc`,`A`).\n",
        "- Recuerde que también se está evaluando su **capacidad de interpretar los resultados**. Escriba sus interpretaciones/conclusiones en celdas utilizando *Markdown*.\n",
        "- El formato de presentación de todo el examen en general debe ser adecuado. Use tamaños de letra, colores, etiquetas, etcétera.\n",
        "- No se resuelven dudas de ningún tipo por los profesores de la asignatura. Por favor, absténgase de preguntar."
      ]
    },
    {
      "cell_type": "markdown",
      "id": "1ddd61c6",
      "metadata": {
        "id": "1ddd61c6"
      },
      "source": [
        "---\n",
        "# Primer punto. Optimización de funciones con `SymPy` (3.4 puntos)\n",
        "\n",
        "**Volumen mínimo**. Considere un cono circular recto circunscrito en una esfera de radio $r$:"
      ]
    },
    {
      "cell_type": "code",
      "execution_count": null,
      "id": "31020885",
      "metadata": {
        "cellView": "form",
        "id": "31020885",
        "outputId": "0948c328-b1cb-4dae-f1d8-a7fab4972dbb",
        "colab": {
          "base_uri": "https://localhost:8080/",
          "height": 406
        }
      },
      "outputs": [
        {
          "output_type": "display_data",
          "data": {
            "text/plain": [
              "<Figure size 640x480 with 1 Axes>"
            ],
            "image/png": "[encoded data removed]"
          },
          "metadata": {}
        }
      ],
      "source": [
        "#@markdown\n",
        "import numpy as np\n",
        "import matplotlib.pyplot as plt\n",
        "import matplotlib.patches as patches\n",
        "%matplotlib inline\n",
        "\n",
        "B1 = patches.Arc((0, 0), 2,0.3,theta2=180,fc='None',ls='--',color='k')\n",
        "B2 = patches.Arc((0, 0), 2,0.3,theta1=180,fc='None',color='k')\n",
        "C = patches.Circle((0, 0.6), 0.6,fc='None',lw=2,color='k');\n",
        "ax = plt.gca()\n",
        "ax.add_artist(B1)\n",
        "ax.add_artist(B2)\n",
        "ax.add_artist(C)\n",
        "\n",
        "plt.plot([1,0,-1],[0,2,0],'k')\n",
        "plt.plot([0,0],[0,2],'--r')\n",
        "plt.plot([-0.2,0],[0,0],'--k')\n",
        "plt.plot([-0.2,0],[2,2],'--k')\n",
        "plt.plot([-0.14,-0.14],[0,0.9],'--k')\n",
        "plt.plot([-0.14,-0.14],[1.1,2],'--k')\n",
        "plt.plot([0,0.55],[0.6,0.9],'--r')\n",
        "plt.scatter([0,0.55],[0.6,0.9],c='k')\n",
        "plt.plot([0,1],[0,0],'--k')\n",
        "\n",
        "plt.text(-0.18,0.95,'h')\n",
        "plt.text(0.2,0.8,'$r$')\n",
        "\n",
        "plt.axis([-2.1,2.1,-0.5,2.1])\n",
        "plt.axis('off')\n",
        "plt.show()"
      ]
    },
    {
      "cell_type": "markdown",
      "id": "f771f557",
      "metadata": {
        "id": "f771f557"
      },
      "source": [
        "1. Escriba el volumen $V$ del cono como una función de la altura $h$. Realice este punto usando fórmulas de $\\LaTeX$, en celdas *Markdown*. (1.4 puntos)"
      ]
    },
    {
      "cell_type": "markdown",
      "source": [
        "**Cono circunscrito a una esfera de radio \\(r\\)** (la esfera está inscrita en el cono).  \n",
        "Sea \\(h\\) la altura del cono y \\(a\\) el radio de su base. En la sección meridiana (triángulo isósceles de base \\(2a\\) y altura \\(h\\)), el inradio coincide con el radio de la esfera:\n",
        "$\n",
        "r \\;=\\; \\frac{A}{s}\n",
        "\\;=\\; \\frac{\\tfrac12(2a)h}{\\sqrt{a^2+h^2}+a}\n",
        "\\;=\\; \\frac{a\\,h}{\\sqrt{a^2+h^2}+a}.\n",
        "$\n",
        "\n",
        "Despejando \\(a\\) en términos de \\(h\\) y \\(r\\):\n",
        "$\n",
        "a^2 \\;=\\; \\frac{r^2\\,h}{\\,h-2r\\,},\\qquad h>2r.\n",
        "$\n",
        "\n",
        "El **volumen** del cono como función de \\(h\\) es\n",
        "$\n",
        "V(h)\\;=\\;\\frac{1}{3}\\pi a^2 h\n",
        "\\;=\\;\\frac{\\pi}{3}\\,r^2\\,\\frac{h^2}{\\,h-2r\\,},\\qquad h>2r.\n",
        "$"
      ],
      "metadata": {
        "id": "2cacffb9"
      },
      "id": "2cacffb9"
    },
    {
      "cell_type": "markdown",
      "id": "a857727d",
      "metadata": {
        "id": "a857727d"
      },
      "source": [
        "2. Determinar el valor de $h$ que minimiza el volumen para un radio $r=2$. (1 punto)"
      ]
    },
    {
      "cell_type": "code",
      "execution_count": 45,
      "id": "21c69262",
      "metadata": {
        "id": "21c69262"
      },
      "outputs": [],
      "source": [
        "import sympy as sym"
      ]
    },
    {
      "cell_type": "code",
      "source": [
        "h = sym.var('h', positive=True)\n",
        "\n",
        "V = sym.pi/3 * (2**2) * h**2 / (h - 2*2)\n",
        "V"
      ],
      "metadata": {
        "colab": {
          "base_uri": "https://localhost:8080/",
          "height": 58
        },
        "id": "ze4TKpldC9s_",
        "outputId": "53848dcb-1456-4a01-f313-f81b26b57adf"
      },
      "id": "ze4TKpldC9s_",
      "execution_count": 46,
      "outputs": [
        {
          "output_type": "execute_result",
          "data": {
            "text/plain": [
              "4*pi*h**2/(3*(h - 4))"
            ],
            "text/latex": "$\\displaystyle \\frac{4 \\pi h^{2}}{3 \\left(h - 4\\right)}$"
          },
          "metadata": {},
          "execution_count": 46
        }
      ]
    },
    {
      "cell_type": "code",
      "source": [
        "dV = sym.diff(V, h)\n",
        "c = sym.solve(dV, h)\n",
        "c"
      ],
      "metadata": {
        "colab": {
          "base_uri": "https://localhost:8080/"
        },
        "id": "JI6blr9NDDIG",
        "outputId": "3cd82cf8-eb4f-4aff-d07d-e242137debd4"
      },
      "id": "JI6blr9NDDIG",
      "execution_count": 47,
      "outputs": [
        {
          "output_type": "execute_result",
          "data": {
            "text/plain": [
              "[8]"
            ]
          },
          "metadata": {},
          "execution_count": 47
        }
      ]
    },
    {
      "cell_type": "code",
      "source": [
        "h_min = c[0]\n",
        "d2V = sym.diff(dV, h)\n",
        "d2V.subs(h, h_min), h_min, float(h_min)"
      ],
      "metadata": {
        "colab": {
          "base_uri": "https://localhost:8080/"
        },
        "id": "XfNP9fPuDHIm",
        "outputId": "c4127ce7-cffe-4378-894e-bf8df0cffae6"
      },
      "id": "XfNP9fPuDHIm",
      "execution_count": 48,
      "outputs": [
        {
          "output_type": "execute_result",
          "data": {
            "text/plain": [
              "(2*pi/3, 8, 8.0)"
            ]
          },
          "metadata": {},
          "execution_count": 48
        }
      ]
    },
    {
      "cell_type": "code",
      "source": [
        "V_min = sym.simplify(V.subs(h, h_min))\n",
        "V_min"
      ],
      "metadata": {
        "colab": {
          "base_uri": "https://localhost:8080/",
          "height": 51
        },
        "id": "zZZ2Jn6PDOSs",
        "outputId": "85afbba5-c290-4a34-ee68-00d27cd7e714"
      },
      "id": "zZZ2Jn6PDOSs",
      "execution_count": 50,
      "outputs": [
        {
          "output_type": "execute_result",
          "data": {
            "text/plain": [
              "64*pi/3"
            ],
            "text/latex": "$\\displaystyle \\frac{64 \\pi}{3}$"
          },
          "metadata": {},
          "execution_count": 50
        }
      ]
    },
    {
      "cell_type": "markdown",
      "id": "f5aec783",
      "metadata": {
        "id": "f5aec783"
      },
      "source": [
        "3. ¿Cuál es el área mínima del cono? (1 punto)"
      ]
    },
    {
      "cell_type": "code",
      "execution_count": 51,
      "id": "9fe34417",
      "metadata": {
        "id": "9fe34417",
        "colab": {
          "base_uri": "https://localhost:8080/",
          "height": 77
        },
        "outputId": "ad715dd4-2d41-4ee2-ba51-93b5a23612d6"
      },
      "outputs": [
        {
          "output_type": "execute_result",
          "data": {
            "text/plain": [
              "pi*h*r*(r + sqrt((h*(h - 2*r) + r**2)/(h - 2*r))*(h - 2*r)*sqrt(1/(h - 2*r)))/(h - 2*r)"
            ],
            "text/latex": "$\\displaystyle \\frac{\\pi h r \\left(r + \\sqrt{\\frac{h \\left(h - 2 r\\right) + r^{2}}{h - 2 r}} \\left(h - 2 r\\right) \\sqrt{\\frac{1}{h - 2 r}}\\right)}{h - 2 r}$"
          },
          "metadata": {},
          "execution_count": 51
        }
      ],
      "source": [
        "h = sym.var('h', positive=True)\n",
        "r = sym.var('r', positive=True)\n",
        "\n",
        "a = r*sym.sqrt(h/(h-2*r))\n",
        "l = sym.sqrt(a**2 + h**2)\n",
        "\n",
        "A_base = sym.pi*a**2\n",
        "A_lat  = sym.pi*a*l\n",
        "A_tot  = sym.simplify(A_base + A_lat)\n",
        "A_tot"
      ]
    },
    {
      "cell_type": "code",
      "source": [
        "h_min = 4*r\n",
        "\n",
        "A_min = sym.simplify(A_tot.subs({r:2, h:(4*r).subs(r,2)}))\n",
        "A_min"
      ],
      "metadata": {
        "colab": {
          "base_uri": "https://localhost:8080/",
          "height": 38
        },
        "id": "7SbX-rJREgLg",
        "outputId": "c9743cf4-ef27-4ace-fd85-83b2a631372e"
      },
      "id": "7SbX-rJREgLg",
      "execution_count": 52,
      "outputs": [
        {
          "output_type": "execute_result",
          "data": {
            "text/plain": [
              "32*pi"
            ],
            "text/latex": "$\\displaystyle 32 \\pi$"
          },
          "metadata": {},
          "execution_count": 52
        }
      ]
    },
    {
      "cell_type": "markdown",
      "source": [
        "**Interpretación**\n",
        "\n",
        "- Usando la relación del inradio del triángulo meridiano se obtuvo\n",
        "  $V(h)=\\frac{\\pi}{3}\\,r^{2}\\,\\frac{h^{2}}{h-2r},\\qquad h>2r.$\n",
        "- Al derivar y resolver $V'(h)=0$ (en $h>2r$) se halló el único crítico en\n",
        "  $h_\\ast=4r \\;\\Rightarrow\\; h_\\ast=8.$\n",
        "  La segunda derivada $V''(h_\\ast)>0$ confirma mínimo global.\n",
        "- Volumen mínimo:\n",
        "  $V_{\\min}=V(8)=\\frac{64\\pi}{3}.$\n",
        "- Con $h_\\ast=8$ se tiene $a=r\\sqrt{2}$ y el área total mínima (base + lateral) es\n",
        "  $A_{\\min}=32\\pi.$\n",
        "\n",
        "**Interpretación.** El cono más “eficiente” que circunscribe a la esfera (radio $2$) ocurre cuando su altura es $8$; ese diseño minimiza el volumen del cono y fija su área total en $32\\pi$."
      ],
      "metadata": {
        "id": "6M6M2Fm6Fa67"
      },
      "id": "6M6M2Fm6Fa67"
    },
    {
      "cell_type": "markdown",
      "id": "2247cd32",
      "metadata": {
        "id": "2247cd32"
      },
      "source": [
        "---\n",
        "# Segundo punto. Programación lineal (3.4 puntos)\n",
        "Una fábrica de confitería está interesada en mezclar tres de sus marcas principales de golosinas (M1, M2, M3) para obtener tres nuevos productos (P1, P2, P3), que desea vender al precio de 4,3,2 u.m. por caja, respectivamente.\n",
        "La empresa puede importar 2000 cajas de M1, 4000 de la M2 y 1000 de la M3, siendo el precio que debe pagar de 3,2 y 1 u.m. por cada tipo de caja.\n",
        "\n",
        "El proveedor solicita que el Producto 1 (P1) contenga como mínimo el 80% de M1 y como máximo el 20% de M3. El producto 2 (P2) deberá contener como mínimo el 20% de M1 y no más del 80% de M3. El producto 3 (P3) no podrá contener más del 70% de M3.\n",
        "\n",
        "Encuentre la combinación que le genere el **máximo** beneficio (precio de venta menos el costo).\n",
        "\n",
        "Use las variables $x_{ij}$: Como la cantidad de la marca $i$ en el producto $j$."
      ]
    },
    {
      "cell_type": "markdown",
      "id": "a8ca410b",
      "metadata": {
        "id": "a8ca410b"
      },
      "source": [
        "1. Escriba la función objetivo a **minimizar** junto con las restricciones, explicando detalladamente cada paso (usando fórmulas de $\\LaTeX$, en celdas Markdown). Además escriba el problema en la forma\n",
        "\\begin{equation}\n",
        "\\begin{array}{ll}\n",
        "\\min_{\\boldsymbol{x}} & \\boldsymbol{c}^T\\boldsymbol{x} \\\\\n",
        "\\text{s. a. }        & \\boldsymbol{A}_{eq}\\boldsymbol{x}=\\boldsymbol{b}_{eq} \\\\\n",
        "                     & \\boldsymbol{A}\\boldsymbol{x}\\leq\\boldsymbol{b},\n",
        "\\end{array}\\qquad\\text{(2.2 puntos)}\n",
        "\\end{equation}"
      ]
    },
    {
      "cell_type": "markdown",
      "source": [
        "**Programación lineal — Mezclas (M1, M2, M3) → Productos (P1, P2, P3)**\n",
        "\n",
        "**Variables.** Sea $x_{ij}\\ge 0$ la cantidad (cajas) de la marca $M_i$ usada en el producto $P_j$, con $i,j\\in\\{1,2,3\\}$.\n",
        "Usaremos el vector de decisión en el orden\n",
        "$x=\\big[x_{11},\\,x_{21},\\,x_{31},\\,x_{12},\\,x_{22},\\,x_{32},\\,x_{13},\\,x_{23},\\,x_{33}\\big]^\\top.$\n",
        "\n",
        "**Parámetros.** Precios de venta por producto: $p_1=4,\\ p_2=3,\\ p_3=2$.\n",
        "Costos por marca: $c_1=3,\\ c_2=2,\\ c_3=1$.\n",
        "Disponibilidades: $M_1\\le 2000,\\ M_2\\le 4000,\\ M_3\\le 1000$.\n",
        "Sea $y_j=\\sum_{i=1}^3 x_{ij}$ el total del producto $P_j$.\n",
        "\n",
        "**Objetivo (max beneficio).**\n",
        "$\\max \\sum_{i=1}^3\\sum_{j=1}^3 (p_j-c_i)\\,x_{ij}.$\n",
        "Como resolveremos con un solver que minimiza, usamos el equivalente\n",
        "$\\min\\ -\\!\\sum_{i=1}^3\\sum_{j=1}^3 (p_j-c_i)\\,x_{ij}\\;=\\; \\min\\ c^\\top x,$\n",
        "donde, en el orden definido para $x$, los coeficientes $(p_j-c_i)$ son\n",
        "$\\underbrace{[1,\\,2,\\,3]}_{\\text{P1}},\\ \\underbrace{[0,\\,1,\\,2]}_{\\text{P2}},\\ \\underbrace{[-1,\\,0,\\,1]}_{\\text{P3}},$\n",
        "y por tanto\n",
        "$c \\;=\\; -[\\,1,\\,2,\\,3,\\,0,\\,1,\\,2,\\,-1,\\,0,\\,1\\,]^\\top\n",
        "= [\\,-1,\\,-2,\\,-3,\\,0,\\,-1,\\,-2,\\,1,\\,0,\\,-1\\,]^\\top .$\n",
        "\n",
        "**Restricciones de disponibilidad.**\n",
        "$x_{11}+x_{12}+x_{13} \\le 2000,\\quad\n",
        "x_{21}+x_{22}+x_{23} \\le 4000,\\quad\n",
        "x_{31}+x_{32}+x_{33} \\le 1000.$\n",
        "\n",
        "**Restricciones de composición.**\n",
        "Para P1: $x_{11}\\ge 0.8\\,y_1,\\ x_{31}\\le 0.2\\,y_1\n",
        "\\ \\Rightarrow\\\n",
        "\\begin{cases}\n",
        "-0.2x_{11}+0.8x_{21}+0.8x_{31}\\le 0,\\\\\n",
        "-0.2x_{11}-0.2x_{21}+0.8x_{31}\\le 0.\n",
        "\\end{cases}$\n",
        "\n",
        "Para P2: $x_{12}\\ge 0.2\\,y_2,\\ x_{32}\\le 0.8\\,y_2\n",
        "\\ \\Rightarrow\\\n",
        "\\begin{cases}\n",
        "-0.8x_{12}+0.2x_{22}+0.2x_{32}\\le 0,\\\\\n",
        "-0.8x_{12}-0.8x_{22}+0.2x_{32}\\le 0.\n",
        "\\end{cases}$\n",
        "\n",
        "Para P3: $x_{33}\\le 0.7\\,y_3\n",
        "\\ \\Rightarrow\\ -0.7x_{13}-0.7x_{23}+0.3x_{33}\\le 0.$\n",
        "\n",
        "**Forma matricial.**\n",
        "$\\min_{x\\ge 0}\\ c^\\top x\n",
        "\\quad\\text{s.a.}\\quad\n",
        "A\\,x\\le b,\\quad A_{\\mathrm{eq}}x=b_{\\mathrm{eq}}\\ (\\text{no aplica}).$\n",
        "\n",
        "Con el orden de $x$ dado arriba:\n",
        "$A=\n",
        "\\begin{bmatrix}\n",
        "1&0&0&1&0&0&1&0&0\\\\\n",
        "0&1&0&0&1&0&0&1&0\\\\\n",
        "0&0&1&0&0&1&0&0&1\\\\\n",
        "-0.2&0.8&0.8&0&0&0&0&0&0\\\\\n",
        "-0.2&-0.2&0.8&0&0&0&0&0&0\\\\\n",
        "0&0&0&-0.8&0.2&0.2&0&0&0\\\\\n",
        "0&0&0&-0.8&-0.8&0.2&0&0&0\\\\\n",
        "0&0&0&0&0&0&-0.7&-0.7&0.3\n",
        "\\end{bmatrix},\\quad\n",
        "b=\n",
        "\\begin{bmatrix}\n",
        "2000\\\\ 4000\\\\ 1000\\\\ 0\\\\ 0\\\\ 0\\\\ 0\\\\ 0\n",
        "\\end{bmatrix},\\quad\n",
        "A_{\\mathrm{eq}}=\\varnothing,\\ \\ b_{\\mathrm{eq}}=\\varnothing.$\n",
        "\n",
        "Además, $x\\ge 0$.\n",
        "Forma final (minimización):\n",
        "$\n",
        "\\min_{x\\ge 0}\\ c^\\top x,\\qquad\n",
        "A_{\\mathrm{eq}}=\\varnothing,\\; b_{\\mathrm{eq}}=\\varnothing,\\qquad\n",
        "A\\,x\\le b,\n",
        "$\n",
        "con $x=[x_{11},x_{21},x_{31},x_{12},x_{22},x_{32},x_{13},x_{23},x_{33}]^\\top$,\n",
        "$c=[-1,-2,-3,\\,0,-1,-2,\\,1,0,-1]^\\top$ y $A,b$ como se definieron arriba."
      ],
      "metadata": {
        "id": "67584825"
      },
      "id": "67584825"
    },
    {
      "cell_type": "markdown",
      "id": "11f14b6d",
      "metadata": {
        "id": "11f14b6d"
      },
      "source": [
        "2. Resuelva el problema utilizando la función `linprog`. ¿Cuál es la combinación óptima para cada producto?, ¿Cuál es el beneficio que se genera? (1.2 puntos)"
      ]
    },
    {
      "cell_type": "code",
      "execution_count": 53,
      "id": "1db88380",
      "metadata": {
        "id": "1db88380"
      },
      "outputs": [],
      "source": [
        "import numpy as np\n",
        "import scipy.optimize as opt"
      ]
    },
    {
      "cell_type": "code",
      "source": [
        "profit = np.array([ 1, 2, 3,   0, 1, 2,   -1, 0, 1], dtype=float)\n",
        "\n",
        "c = -profit\n",
        "c"
      ],
      "metadata": {
        "colab": {
          "base_uri": "https://localhost:8080/"
        },
        "id": "t3Qi1XyjMU5e",
        "outputId": "71901635-e8a8-4de4-d0a8-c7b50b3e28ce"
      },
      "id": "t3Qi1XyjMU5e",
      "execution_count": 54,
      "outputs": [
        {
          "output_type": "execute_result",
          "data": {
            "text/plain": [
              "array([-1., -2., -3., -0., -1., -2.,  1., -0., -1.])"
            ]
          },
          "metadata": {},
          "execution_count": 54
        }
      ]
    },
    {
      "cell_type": "code",
      "source": [
        "A = []\n",
        "b = []\n",
        "\n",
        "row = np.zeros(9); row[[0,3,6]] = 1;  A.append(row); b.append(2000)\n",
        "\n",
        "row = np.zeros(9); row[[1,4,7]] = 1;  A.append(row); b.append(4000)\n",
        "\n",
        "row = np.zeros(9); row[[2,5,8]] = 1;  A.append(row); b.append(1000)\n",
        "\n",
        "row = np.zeros(9); row[[0,1,2]] = [-0.2, 0.8, 0.8];  A.append(row); b.append(0)\n",
        "\n",
        "row = np.zeros(9); row[[0,1,2]] = [-0.2, -0.2, 0.8]; A.append(row); b.append(0)\n",
        "\n",
        "row = np.zeros(9); row[[3,4,5]] = [-0.8, 0.2, 0.2];  A.append(row); b.append(0)\n",
        "\n",
        "row = np.zeros(9); row[[3,4,5]] = [-0.8, -0.8, 0.2]; A.append(row); b.append(0)\n",
        "\n",
        "row = np.zeros(9); row[[6,7,8]] = [-0.7, -0.7, 0.3]; A.append(row); b.append(0)\n",
        "\n",
        "A = np.array(A, dtype=float)\n",
        "b = np.array(b, dtype=float)\n",
        "\n",
        "A, b"
      ],
      "metadata": {
        "colab": {
          "base_uri": "https://localhost:8080/"
        },
        "id": "dye3pJ_pMd4F",
        "outputId": "7e1081c3-d095-4dcb-ba03-5cfa28b390e8"
      },
      "id": "dye3pJ_pMd4F",
      "execution_count": 55,
      "outputs": [
        {
          "output_type": "execute_result",
          "data": {
            "text/plain": [
              "(array([[ 1. ,  0. ,  0. ,  1. ,  0. ,  0. ,  1. ,  0. ,  0. ],\n",
              "        [ 0. ,  1. ,  0. ,  0. ,  1. ,  0. ,  0. ,  1. ,  0. ],\n",
              "        [ 0. ,  0. ,  1. ,  0. ,  0. ,  1. ,  0. ,  0. ,  1. ],\n",
              "        [-0.2,  0.8,  0.8,  0. ,  0. ,  0. ,  0. ,  0. ,  0. ],\n",
              "        [-0.2, -0.2,  0.8,  0. ,  0. ,  0. ,  0. ,  0. ,  0. ],\n",
              "        [ 0. ,  0. ,  0. , -0.8,  0.2,  0.2,  0. ,  0. ,  0. ],\n",
              "        [ 0. ,  0. ,  0. , -0.8, -0.8,  0.2,  0. ,  0. ,  0. ],\n",
              "        [ 0. ,  0. ,  0. ,  0. ,  0. ,  0. , -0.7, -0.7,  0.3]]),\n",
              " array([2000., 4000., 1000.,    0.,    0.,    0.,    0.,    0.]))"
            ]
          },
          "metadata": {},
          "execution_count": 55
        }
      ]
    },
    {
      "cell_type": "code",
      "source": [
        "sol = opt.linprog(c, A, b)\n",
        "sol"
      ],
      "metadata": {
        "colab": {
          "base_uri": "https://localhost:8080/"
        },
        "id": "qpUikbs6Mo_E",
        "outputId": "4e3a3b71-c276-46a4-ed1e-7582418fd5f1"
      },
      "id": "qpUikbs6Mo_E",
      "execution_count": 56,
      "outputs": [
        {
          "output_type": "execute_result",
          "data": {
            "text/plain": [
              "        message: Optimization terminated successfully. (HiGHS Status 7: Optimal)\n",
              "        success: True\n",
              "         status: 0\n",
              "            fun: -7000.0\n",
              "              x: [ 8.000e+02 -0.000e+00  2.000e+02  1.200e+03  4.000e+03\n",
              "                   8.000e+02  0.000e+00  0.000e+00  0.000e+00]\n",
              "            nit: 5\n",
              "          lower:  residual: [ 8.000e+02 -0.000e+00  2.000e+02  1.200e+03\n",
              "                              4.000e+03  8.000e+02  0.000e+00  0.000e+00\n",
              "                              0.000e+00]\n",
              "                 marginals: [ 0.000e+00  0.000e+00  0.000e+00  0.000e+00\n",
              "                              0.000e+00  0.000e+00  2.333e+00  6.667e-01\n",
              "                              6.667e-01]\n",
              "          upper:  residual: [       inf        inf        inf        inf\n",
              "                                    inf        inf        inf        inf\n",
              "                                    inf]\n",
              "                 marginals: [ 0.000e+00  0.000e+00  0.000e+00  0.000e+00\n",
              "                              0.000e+00  0.000e+00  0.000e+00  0.000e+00\n",
              "                              0.000e+00]\n",
              "          eqlin:  residual: []\n",
              "                 marginals: []\n",
              "        ineqlin:  residual: [ 0.000e+00  0.000e+00  0.000e+00  0.000e+00\n",
              "                              0.000e+00  0.000e+00  4.000e+03  0.000e+00]\n",
              "                 marginals: [-1.333e+00 -6.667e-01 -1.667e+00 -1.667e+00\n",
              "                             -0.000e+00 -1.667e+00 -0.000e+00 -0.000e+00]\n",
              " mip_node_count: 0\n",
              " mip_dual_bound: 0.0\n",
              "        mip_gap: 0.0"
            ]
          },
          "metadata": {},
          "execution_count": 56
        }
      ]
    },
    {
      "cell_type": "code",
      "source": [
        "beneficio_max = -sol.fun\n",
        "beneficio_max, sol.x"
      ],
      "metadata": {
        "colab": {
          "base_uri": "https://localhost:8080/"
        },
        "id": "u5m8WqSkMtUu",
        "outputId": "4694d945-3dcf-4efc-8ce5-d2d5296e1287"
      },
      "id": "u5m8WqSkMtUu",
      "execution_count": 57,
      "outputs": [
        {
          "output_type": "execute_result",
          "data": {
            "text/plain": [
              "(7000.0,\n",
              " array([ 800.,   -0.,  200., 1200., 4000.,  800.,    0.,    0.,    0.]))"
            ]
          },
          "metadata": {},
          "execution_count": 57
        }
      ]
    },
    {
      "cell_type": "code",
      "source": [
        "y1 = sol.x[0] + sol.x[1] + sol.x[2]\n",
        "y2 = sol.x[3] + sol.x[4] + sol.x[5]\n",
        "y3 = sol.x[6] + sol.x[7] + sol.x[8]\n",
        "y1, y2, y3"
      ],
      "metadata": {
        "colab": {
          "base_uri": "https://localhost:8080/"
        },
        "id": "FWZ6P7NKMxoT",
        "outputId": "451052b6-71f4-473b-9c1e-26e8a8dd1a3b"
      },
      "id": "FWZ6P7NKMxoT",
      "execution_count": 58,
      "outputs": [
        {
          "output_type": "execute_result",
          "data": {
            "text/plain": [
              "(np.float64(1000.0), np.float64(6000.0), np.float64(0.0))"
            ]
          },
          "metadata": {},
          "execution_count": 58
        }
      ]
    },
    {
      "cell_type": "markdown",
      "source": [
        "**Interpretación**\n",
        "\n",
        "- Óptimo: $x^\\*=[800,0,200,\\,1200,4000,800,\\,0,0,0]$ en el orden $[x_{11},x_{21},x_{31},x_{12},x_{22},x_{32},x_{13},x_{23},x_{33}]$.\n",
        "- Totales por producto: $y_1=1000$, $y_2=6000$, $y_3=0$.\n",
        "- Beneficio máximo: $7000$ u.m.\n",
        "- Porcentajes:\n",
        "  - $P1$: $M1=800/1000=80\\%$ (mín 80% ✓), $M3=200/1000=20\\%$ (máx 20% ✓).\n",
        "  - $P2$: $M1=1200/6000=20\\%$ (mín 20% ✓), $M3=800/6000\\approx13.3\\%$ (≤80% ✓).\n",
        "  - $P3$: no se produce ($y_3=0$), restricciones satisfechas.\n",
        "- Disponibilidad: se usan exactamente $M1=2000$, $M2=4000$, $M3=1000$ (todas saturadas).\n"
      ],
      "metadata": {
        "id": "WqmVrTSIPGJs"
      },
      "id": "WqmVrTSIPGJs"
    },
    {
      "cell_type": "markdown",
      "id": "510ce02e",
      "metadata": {
        "id": "510ce02e"
      },
      "source": [
        "---\n",
        "# Tercer punto. Ajuste de curvas (3.4 puntos)\n",
        "Los siguientes datos extraidos de Administrative Office of the U.S. Courts, representan el número de bancarrotas en miles entre los años 1988 y 2001."
      ]
    },
    {
      "cell_type": "code",
      "execution_count": 26,
      "id": "141912dd",
      "metadata": {
        "id": "141912dd",
        "outputId": "3d72aed9-3bf6-47dc-acee-3deba216c1f7",
        "colab": {
          "base_uri": "https://localhost:8080/",
          "height": 554
        }
      },
      "outputs": [
        {
          "output_type": "stream",
          "name": "stderr",
          "text": [
            "/tmp/ipython-input-1613858795.py:3: FutureWarning: 'Y' is deprecated and will be removed in a future version, please use 'YE' instead.\n",
            "  date_rng=pd.date_range(start='1/1/1988', end='31/12/2001', freq='Y')\n"
          ]
        },
        {
          "output_type": "execute_result",
          "data": {
            "text/plain": [
              "            values\n",
              "date              \n",
              "1988-12-31   594.6\n",
              "1989-12-31   643.0\n",
              "1990-12-31   725.5\n",
              "1991-12-31   880.4\n",
              "1992-12-31   972.5\n",
              "1993-12-31   918.7\n",
              "1994-12-31   845.3\n",
              "1995-12-31   858.1\n",
              "1996-12-31  1042.1\n",
              "1997-12-31  1317.0\n",
              "1998-12-31  1429.5\n",
              "1999-12-31  1392.0\n",
              "2000-12-31  1277.0\n",
              "2001-12-31  1386.6"
            ],
            "text/html": [
              "\n",
              "  <div id=\"df-592f08fa-8af6-4591-a84b-3e66abe8d34c\" class=\"colab-df-container\">\n",
              "    <div>\n",
              "<style scoped>\n",
              "    .dataframe tbody tr th:only-of-type {\n",
              "        vertical-align: middle;\n",
              "    }\n",
              "\n",
              "    .dataframe tbody tr th {\n",
              "        vertical-align: top;\n",
              "    }\n",
              "\n",
              "    .dataframe thead th {\n",
              "        text-align: right;\n",
              "    }\n",
              "</style>\n",
              "<table border=\"1\" class=\"dataframe\">\n",
              "  <thead>\n",
              "    <tr style=\"text-align: right;\">\n",
              "      <th></th>\n",
              "      <th>values</th>\n",
              "    </tr>\n",
              "    <tr>\n",
              "      <th>date</th>\n",
              "      <th></th>\n",
              "    </tr>\n",
              "  </thead>\n",
              "  <tbody>\n",
              "    <tr>\n",
              "      <th>1988-12-31</th>\n",
              "      <td>594.6</td>\n",
              "    </tr>\n",
              "    <tr>\n",
              "      <th>1989-12-31</th>\n",
              "      <td>643.0</td>\n",
              "    </tr>\n",
              "    <tr>\n",
              "      <th>1990-12-31</th>\n",
              "      <td>725.5</td>\n",
              "    </tr>\n",
              "    <tr>\n",
              "      <th>1991-12-31</th>\n",
              "      <td>880.4</td>\n",
              "    </tr>\n",
              "    <tr>\n",
              "      <th>1992-12-31</th>\n",
              "      <td>972.5</td>\n",
              "    </tr>\n",
              "    <tr>\n",
              "      <th>1993-12-31</th>\n",
              "      <td>918.7</td>\n",
              "    </tr>\n",
              "    <tr>\n",
              "      <th>1994-12-31</th>\n",
              "      <td>845.3</td>\n",
              "    </tr>\n",
              "    <tr>\n",
              "      <th>1995-12-31</th>\n",
              "      <td>858.1</td>\n",
              "    </tr>\n",
              "    <tr>\n",
              "      <th>1996-12-31</th>\n",
              "      <td>1042.1</td>\n",
              "    </tr>\n",
              "    <tr>\n",
              "      <th>1997-12-31</th>\n",
              "      <td>1317.0</td>\n",
              "    </tr>\n",
              "    <tr>\n",
              "      <th>1998-12-31</th>\n",
              "      <td>1429.5</td>\n",
              "    </tr>\n",
              "    <tr>\n",
              "      <th>1999-12-31</th>\n",
              "      <td>1392.0</td>\n",
              "    </tr>\n",
              "    <tr>\n",
              "      <th>2000-12-31</th>\n",
              "      <td>1277.0</td>\n",
              "    </tr>\n",
              "    <tr>\n",
              "      <th>2001-12-31</th>\n",
              "      <td>1386.6</td>\n",
              "    </tr>\n",
              "  </tbody>\n",
              "</table>\n",
              "</div>\n",
              "    <div class=\"colab-df-buttons\">\n",
              "\n",
              "  <div class=\"colab-df-container\">\n",
              "    <button class=\"colab-df-convert\" onclick=\"convertToInteractive('df-592f08fa-8af6-4591-a84b-3e66abe8d34c')\"\n",
              "            title=\"Convert this dataframe to an interactive table.\"\n",
              "            style=\"display:none;\">\n",
              "\n",
              "  <svg xmlns=\"http://www.w3.org/2000/svg\" height=\"24px\" viewBox=\"0 -960 960 960\">\n",
              "    <path d=\"M120-120v-720h720v720H120Zm60-500h600v-160H180v160Zm220 220h160v-160H400v160Zm0 220h160v-160H400v160ZM180-400h160v-160H180v160Zm440 0h160v-160H620v160ZM180-180h160v-160H180v160Zm440 0h160v-160H620v160Z\"/>\n",
              "  </svg>\n",
              "    </button>\n",
              "\n",
              "  <style>\n",
              "    .colab-df-container {\n",
              "      display:flex;\n",
              "      gap: 12px;\n",
              "    }\n",
              "\n",
              "    .colab-df-convert {\n",
              "      background-color: #E8F0FE;\n",
              "      border: none;\n",
              "      border-radius: 50%;\n",
              "      cursor: pointer;\n",
              "      display: none;\n",
              "      fill: #1967D2;\n",
              "      height: 32px;\n",
              "      padding: 0 0 0 0;\n",
              "      width: 32px;\n",
              "    }\n",
              "\n",
              "    .colab-df-convert:hover {\n",
              "      background-color: #E2EBFA;\n",
              "      box-shadow: 0px 1px 2px rgba(60, 64, 67, 0.3), 0px 1px 3px 1px rgba(60, 64, 67, 0.15);\n",
              "      fill: #174EA6;\n",
              "    }\n",
              "\n",
              "    .colab-df-buttons div {\n",
              "      margin-bottom: 4px;\n",
              "    }\n",
              "\n",
              "    [theme=dark] .colab-df-convert {\n",
              "      background-color: #3B4455;\n",
              "      fill: #D2E3FC;\n",
              "    }\n",
              "\n",
              "    [theme=dark] .colab-df-convert:hover {\n",
              "      background-color: #434B5C;\n",
              "      box-shadow: 0px 1px 3px 1px rgba(0, 0, 0, 0.15);\n",
              "      filter: drop-shadow(0px 1px 2px rgba(0, 0, 0, 0.3));\n",
              "      fill: #FFFFFF;\n",
              "    }\n",
              "  </style>\n",
              "\n",
              "    <script>\n",
              "      const buttonEl =\n",
              "        document.querySelector('#df-592f08fa-8af6-4591-a84b-3e66abe8d34c button.colab-df-convert');\n",
              "      buttonEl.style.display =\n",
              "        google.colab.kernel.accessAllowed ? 'block' : 'none';\n",
              "\n",
              "      async function convertToInteractive(key) {\n",
              "        const element = document.querySelector('#df-592f08fa-8af6-4591-a84b-3e66abe8d34c');\n",
              "        const dataTable =\n",
              "          await google.colab.kernel.invokeFunction('convertToInteractive',\n",
              "                                                    [key], {});\n",
              "        if (!dataTable) return;\n",
              "\n",
              "        const docLinkHtml = 'Like what you see? Visit the ' +\n",
              "          '<a target=\"_blank\" href=https://colab.research.google.com/notebooks/data_table.ipynb>data table notebook</a>'\n",
              "          + ' to learn more about interactive tables.';\n",
              "        element.innerHTML = '';\n",
              "        dataTable['output_type'] = 'display_data';\n",
              "        await google.colab.output.renderOutput(dataTable, element);\n",
              "        const docLink = document.createElement('div');\n",
              "        docLink.innerHTML = docLinkHtml;\n",
              "        element.appendChild(docLink);\n",
              "      }\n",
              "    </script>\n",
              "  </div>\n",
              "\n",
              "\n",
              "    <div id=\"df-7f5cebde-76ba-426b-a439-cefe4fc43c7a\">\n",
              "      <button class=\"colab-df-quickchart\" onclick=\"quickchart('df-7f5cebde-76ba-426b-a439-cefe4fc43c7a')\"\n",
              "                title=\"Suggest charts\"\n",
              "                style=\"display:none;\">\n",
              "\n",
              "<svg xmlns=\"http://www.w3.org/2000/svg\" height=\"24px\"viewBox=\"0 0 24 24\"\n",
              "     width=\"24px\">\n",
              "    <g>\n",
              "        <path d=\"M19 3H5c-1.1 0-2 .9-2 2v14c0 1.1.9 2 2 2h14c1.1 0 2-.9 2-2V5c0-1.1-.9-2-2-2zM9 17H7v-7h2v7zm4 0h-2V7h2v10zm4 0h-2v-4h2v4z\"/>\n",
              "    </g>\n",
              "</svg>\n",
              "      </button>\n",
              "\n",
              "<style>\n",
              "  .colab-df-quickchart {\n",
              "      --bg-color: #E8F0FE;\n",
              "      --fill-color: #1967D2;\n",
              "      --hover-bg-color: #E2EBFA;\n",
              "      --hover-fill-color: #174EA6;\n",
              "      --disabled-fill-color: #AAA;\n",
              "      --disabled-bg-color: #DDD;\n",
              "  }\n",
              "\n",
              "  [theme=dark] .colab-df-quickchart {\n",
              "      --bg-color: #3B4455;\n",
              "      --fill-color: #D2E3FC;\n",
              "      --hover-bg-color: #434B5C;\n",
              "      --hover-fill-color: #FFFFFF;\n",
              "      --disabled-bg-color: #3B4455;\n",
              "      --disabled-fill-color: #666;\n",
              "  }\n",
              "\n",
              "  .colab-df-quickchart {\n",
              "    background-color: var(--bg-color);\n",
              "    border: none;\n",
              "    border-radius: 50%;\n",
              "    cursor: pointer;\n",
              "    display: none;\n",
              "    fill: var(--fill-color);\n",
              "    height: 32px;\n",
              "    padding: 0;\n",
              "    width: 32px;\n",
              "  }\n",
              "\n",
              "  .colab-df-quickchart:hover {\n",
              "    background-color: var(--hover-bg-color);\n",
              "    box-shadow: 0 1px 2px rgba(60, 64, 67, 0.3), 0 1px 3px 1px rgba(60, 64, 67, 0.15);\n",
              "    fill: var(--button-hover-fill-color);\n",
              "  }\n",
              "\n",
              "  .colab-df-quickchart-complete:disabled,\n",
              "  .colab-df-quickchart-complete:disabled:hover {\n",
              "    background-color: var(--disabled-bg-color);\n",
              "    fill: var(--disabled-fill-color);\n",
              "    box-shadow: none;\n",
              "  }\n",
              "\n",
              "  .colab-df-spinner {\n",
              "    border: 2px solid var(--fill-color);\n",
              "    border-color: transparent;\n",
              "    border-bottom-color: var(--fill-color);\n",
              "    animation:\n",
              "      spin 1s steps(1) infinite;\n",
              "  }\n",
              "\n",
              "  @keyframes spin {\n",
              "    0% {\n",
              "      border-color: transparent;\n",
              "      border-bottom-color: var(--fill-color);\n",
              "      border-left-color: var(--fill-color);\n",
              "    }\n",
              "    20% {\n",
              "      border-color: transparent;\n",
              "      border-left-color: var(--fill-color);\n",
              "      border-top-color: var(--fill-color);\n",
              "    }\n",
              "    30% {\n",
              "      border-color: transparent;\n",
              "      border-left-color: var(--fill-color);\n",
              "      border-top-color: var(--fill-color);\n",
              "      border-right-color: var(--fill-color);\n",
              "    }\n",
              "    40% {\n",
              "      border-color: transparent;\n",
              "      border-right-color: var(--fill-color);\n",
              "      border-top-color: var(--fill-color);\n",
              "    }\n",
              "    60% {\n",
              "      border-color: transparent;\n",
              "      border-right-color: var(--fill-color);\n",
              "    }\n",
              "    80% {\n",
              "      border-color: transparent;\n",
              "      border-right-color: var(--fill-color);\n",
              "      border-bottom-color: var(--fill-color);\n",
              "    }\n",
              "    90% {\n",
              "      border-color: transparent;\n",
              "      border-bottom-color: var(--fill-color);\n",
              "    }\n",
              "  }\n",
              "</style>\n",
              "\n",
              "      <script>\n",
              "        async function quickchart(key) {\n",
              "          const quickchartButtonEl =\n",
              "            document.querySelector('#' + key + ' button');\n",
              "          quickchartButtonEl.disabled = true;  // To prevent multiple clicks.\n",
              "          quickchartButtonEl.classList.add('colab-df-spinner');\n",
              "          try {\n",
              "            const charts = await google.colab.kernel.invokeFunction(\n",
              "                'suggestCharts', [key], {});\n",
              "          } catch (error) {\n",
              "            console.error('Error during call to suggestCharts:', error);\n",
              "          }\n",
              "          quickchartButtonEl.classList.remove('colab-df-spinner');\n",
              "          quickchartButtonEl.classList.add('colab-df-quickchart-complete');\n",
              "        }\n",
              "        (() => {\n",
              "          let quickchartButtonEl =\n",
              "            document.querySelector('#df-7f5cebde-76ba-426b-a439-cefe4fc43c7a button');\n",
              "          quickchartButtonEl.style.display =\n",
              "            google.colab.kernel.accessAllowed ? 'block' : 'none';\n",
              "        })();\n",
              "      </script>\n",
              "    </div>\n",
              "\n",
              "  <div id=\"id_91d334d3-c05f-4ec7-80ef-3ba2e6e2b1e9\">\n",
              "    <style>\n",
              "      .colab-df-generate {\n",
              "        background-color: #E8F0FE;\n",
              "        border: none;\n",
              "        border-radius: 50%;\n",
              "        cursor: pointer;\n",
              "        display: none;\n",
              "        fill: #1967D2;\n",
              "        height: 32px;\n",
              "        padding: 0 0 0 0;\n",
              "        width: 32px;\n",
              "      }\n",
              "\n",
              "      .colab-df-generate:hover {\n",
              "        background-color: #E2EBFA;\n",
              "        box-shadow: 0px 1px 2px rgba(60, 64, 67, 0.3), 0px 1px 3px 1px rgba(60, 64, 67, 0.15);\n",
              "        fill: #174EA6;\n",
              "      }\n",
              "\n",
              "      [theme=dark] .colab-df-generate {\n",
              "        background-color: #3B4455;\n",
              "        fill: #D2E3FC;\n",
              "      }\n",
              "\n",
              "      [theme=dark] .colab-df-generate:hover {\n",
              "        background-color: #434B5C;\n",
              "        box-shadow: 0px 1px 3px 1px rgba(0, 0, 0, 0.15);\n",
              "        filter: drop-shadow(0px 1px 2px rgba(0, 0, 0, 0.3));\n",
              "        fill: #FFFFFF;\n",
              "      }\n",
              "    </style>\n",
              "    <button class=\"colab-df-generate\" onclick=\"generateWithVariable('ban')\"\n",
              "            title=\"Generate code using this dataframe.\"\n",
              "            style=\"display:none;\">\n",
              "\n",
              "  <svg xmlns=\"http://www.w3.org/2000/svg\" height=\"24px\"viewBox=\"0 0 24 24\"\n",
              "       width=\"24px\">\n",
              "    <path d=\"M7,19H8.4L18.45,9,17,7.55,7,17.6ZM5,21V16.75L18.45,3.32a2,2,0,0,1,2.83,0l1.4,1.43a1.91,1.91,0,0,1,.58,1.4,1.91,1.91,0,0,1-.58,1.4L9.25,21ZM18.45,9,17,7.55Zm-12,3A5.31,5.31,0,0,0,4.9,8.1,5.31,5.31,0,0,0,1,6.5,5.31,5.31,0,0,0,4.9,4.9,5.31,5.31,0,0,0,6.5,1,5.31,5.31,0,0,0,8.1,4.9,5.31,5.31,0,0,0,12,6.5,5.46,5.46,0,0,0,6.5,12Z\"/>\n",
              "  </svg>\n",
              "    </button>\n",
              "    <script>\n",
              "      (() => {\n",
              "      const buttonEl =\n",
              "        document.querySelector('#id_91d334d3-c05f-4ec7-80ef-3ba2e6e2b1e9 button.colab-df-generate');\n",
              "      buttonEl.style.display =\n",
              "        google.colab.kernel.accessAllowed ? 'block' : 'none';\n",
              "\n",
              "      buttonEl.onclick = () => {\n",
              "        google.colab.notebook.generateWithVariable('ban');\n",
              "      }\n",
              "      })();\n",
              "    </script>\n",
              "  </div>\n",
              "\n",
              "    </div>\n",
              "  </div>\n"
            ],
            "application/vnd.google.colaboratory.intrinsic+json": {
              "type": "dataframe",
              "variable_name": "ban",
              "summary": "{\n  \"name\": \"ban\",\n  \"rows\": 14,\n  \"fields\": [\n    {\n      \"column\": \"date\",\n      \"properties\": {\n        \"dtype\": \"date\",\n        \"min\": \"1988-12-31 00:00:00\",\n        \"max\": \"2001-12-31 00:00:00\",\n        \"num_unique_values\": 14,\n        \"samples\": [\n          \"1997-12-31 00:00:00\",\n          \"1999-12-31 00:00:00\",\n          \"1988-12-31 00:00:00\"\n        ],\n        \"semantic_type\": \"\",\n        \"description\": \"\"\n      }\n    },\n    {\n      \"column\": \"values\",\n      \"properties\": {\n        \"dtype\": \"number\",\n        \"std\": 290.0633952117334,\n        \"min\": 594.6,\n        \"max\": 1429.5,\n        \"num_unique_values\": 14,\n        \"samples\": [\n          1317.0,\n          1392.0,\n          594.6\n        ],\n        \"semantic_type\": \"\",\n        \"description\": \"\"\n      }\n    }\n  ]\n}"
            }
          },
          "metadata": {},
          "execution_count": 26
        }
      ],
      "source": [
        "import pandas as pd\n",
        "\n",
        "date_rng=pd.date_range(start='1/1/1988', end='31/12/2001', freq='Y')\n",
        "ban=pd.DataFrame(date_rng, columns=['date'])\n",
        "ban = ban.set_index('date')\n",
        "ban['values'] = np.array([594.6,643.0,725.5,880.4,972.5,918.7,845.3,858.1,\n",
        "                           1042.1,1317.0,1429.5,1392.0,1277.0,1386.6])\n",
        "ban"
      ]
    },
    {
      "cell_type": "markdown",
      "id": "5fa0b0ec",
      "metadata": {
        "id": "5fa0b0ec"
      },
      "source": [
        "1. Ajuste los salarios con polinomios de grado 1 a 5 y muestre los errores cuadráticos de forma gráfica, ¿Qué polinómio se ajusta mejor? (2 puntos)"
      ]
    },
    {
      "cell_type": "code",
      "execution_count": 59,
      "id": "b7eab7c7",
      "metadata": {
        "id": "b7eab7c7"
      },
      "outputs": [],
      "source": [
        "import scipy.optimize as opt\n",
        "import numpy as np\n",
        "import matplotlib.pyplot as plt"
      ]
    },
    {
      "cell_type": "code",
      "source": [
        "x_year = ban.index.year.values.astype(float)\n",
        "x = x_year - x_year[0]\n",
        "y = ban['values'].values\n",
        "x, y[:3]"
      ],
      "metadata": {
        "colab": {
          "base_uri": "https://localhost:8080/"
        },
        "id": "ItvBIlgbSWE4",
        "outputId": "2becd238-1c54-4d9c-f47d-0677f9c17a3d"
      },
      "id": "ItvBIlgbSWE4",
      "execution_count": 60,
      "outputs": [
        {
          "output_type": "execute_result",
          "data": {
            "text/plain": [
              "(array([ 0.,  1.,  2.,  3.,  4.,  5.,  6.,  7.,  8.,  9., 10., 11., 12.,\n",
              "        13.]),\n",
              " array([594.6, 643. , 725.5]))"
            ]
          },
          "metadata": {},
          "execution_count": 60
        }
      ]
    },
    {
      "cell_type": "code",
      "source": [
        "def fhat(beta,x):\n",
        "  X=np.array([x**i for i in range(len(beta))]).T\n",
        "  return X@beta\n",
        "\n",
        "def error3(beta,x,y):\n",
        "  return np.sum((y-fhat(beta,x))**2)"
      ],
      "metadata": {
        "id": "9Dr00iIiSYoG"
      },
      "id": "9Dr00iIiSYoG",
      "execution_count": 61,
      "outputs": []
    },
    {
      "cell_type": "code",
      "source": [
        "n=5\n",
        "sol=[]\n",
        "for i in range(1,n+1):\n",
        "  beta_inicial=np.random.rand(i+1)\n",
        "  sol.append(opt.minimize(error3,beta_inicial,args=(x,y)))\n",
        "  f=fhat(sol[-1].x,x)\n",
        "  plt.plot(x_year,f,label='Grado '+str(i))\n",
        "plt.legend()\n",
        "plt.plot(x_year,y,'ok',ms=3)\n",
        "plt.grid()"
      ],
      "metadata": {
        "colab": {
          "base_uri": "https://localhost:8080/",
          "height": 430
        },
        "id": "HEnLgS_WSj-Y",
        "outputId": "401880dd-41e7-43db-929b-15932348118d"
      },
      "id": "HEnLgS_WSj-Y",
      "execution_count": 62,
      "outputs": [
        {
          "output_type": "display_data",
          "data": {
            "text/plain": [
              "<Figure size 640x480 with 1 Axes>"
            ],
            "image/png": "[encoded data removed]"
          },
          "metadata": {}
        }
      ]
    },
    {
      "cell_type": "code",
      "source": [
        "for i in range(len(sol)):\n",
        "  plt.plot(i+1,sol[i].fun,'ok')\n",
        "  plt.text(i+1.1,sol[i].fun,round(sol[i].fun,5))\n",
        "plt.xlabel('Grado del polinomio')\n",
        "plt.ylabel('Error cuadrático acumulado')\n",
        "plt.grid()"
      ],
      "metadata": {
        "colab": {
          "base_uri": "https://localhost:8080/",
          "height": 449
        },
        "id": "Tuv_wm6USp4Q",
        "outputId": "280d1b78-9482-4b0e-e6c8-6ca5ecda4fbc"
      },
      "id": "Tuv_wm6USp4Q",
      "execution_count": 34,
      "outputs": [
        {
          "output_type": "display_data",
          "data": {
            "text/plain": [
              "<Figure size 640x480 with 1 Axes>"
            ],
            "image/png": "[encoded data removed]"
          },
          "metadata": {}
        }
      ]
    },
    {
      "cell_type": "code",
      "source": [
        "errs = np.array([s.fun for s in sol])\n",
        "best_idx = np.argmin(errs)\n",
        "best_deg = best_idx+1\n",
        "best_deg"
      ],
      "metadata": {
        "colab": {
          "base_uri": "https://localhost:8080/"
        },
        "id": "UOYSdkCZStdg",
        "outputId": "3209cf10-1a1a-4ddd-b07b-9f7d30f10e5b"
      },
      "id": "UOYSdkCZStdg",
      "execution_count": 63,
      "outputs": [
        {
          "output_type": "execute_result",
          "data": {
            "text/plain": [
              "np.int64(5)"
            ]
          },
          "metadata": {},
          "execution_count": 63
        }
      ]
    },
    {
      "cell_type": "markdown",
      "id": "078649f3",
      "metadata": {
        "id": "078649f3"
      },
      "source": [
        "2. Muestre en un gráfico los datos y el polinómio que mejor se ajuste (0.7 puntos)"
      ]
    },
    {
      "cell_type": "code",
      "execution_count": 64,
      "id": "64fcfb5e",
      "metadata": {
        "id": "64fcfb5e",
        "colab": {
          "base_uri": "https://localhost:8080/"
        },
        "outputId": "ff8ba868-69b0-42be-c8b2-f604a21bdf76"
      },
      "outputs": [
        {
          "output_type": "execute_result",
          "data": {
            "text/plain": [
              "(np.int64(5),\n",
              " array([ 5.54703120e+02,  1.91516900e+02, -4.58398847e+01,  4.23932492e+00,\n",
              "         3.33796257e-02, -1.14316869e-02]))"
            ]
          },
          "metadata": {},
          "execution_count": 64
        }
      ],
      "source": [
        "errs = np.array([s.fun for s in sol])\n",
        "best_idx = np.argmin(errs)\n",
        "best_deg = best_idx+1\n",
        "best_beta = sol[best_idx].x\n",
        "best_deg, best_beta"
      ]
    },
    {
      "cell_type": "code",
      "source": [
        "plt.plot(x_year,y,'ok',ms=3,label='Datos')\n",
        "xf=np.linspace(x.min(),x.max(),200)\n",
        "plt.plot(x_year[0]+xf,fhat(best_beta,xf),'r',label='Mejor polinomio (grado '+str(best_deg)+')')\n",
        "plt.legend()\n",
        "plt.grid()"
      ],
      "metadata": {
        "colab": {
          "base_uri": "https://localhost:8080/",
          "height": 430
        },
        "id": "JnGMU6P_Uu7L",
        "outputId": "2006b182-d199-40aa-bf91-d537de278843"
      },
      "id": "JnGMU6P_Uu7L",
      "execution_count": 65,
      "outputs": [
        {
          "output_type": "display_data",
          "data": {
            "text/plain": [
              "<Figure size 640x480 with 1 Axes>"
            ],
            "image/png": "[encoded data removed]"
          },
          "metadata": {}
        }
      ]
    },
    {
      "cell_type": "markdown",
      "id": "96ab2758",
      "metadata": {
        "id": "96ab2758"
      },
      "source": [
        "3. Usar el modelo para averiguar el número de bancarrotas a mdiados de 1995 y predecirlo para el año 2020. ¿Qué diferencias encuentra en cuanto a la interpolación y la extrapolación? (0.7 puntos)"
      ]
    },
    {
      "cell_type": "code",
      "execution_count": 66,
      "id": "3dd4146b",
      "metadata": {
        "id": "3dd4146b",
        "colab": {
          "base_uri": "https://localhost:8080/"
        },
        "outputId": "f55e8bdf-5f9f-4220-a625-dc5d8deb0ae9"
      },
      "outputs": [
        {
          "output_type": "execute_result",
          "data": {
            "text/plain": [
              "(np.float64(1035.3874888996484), np.float64(-249925.28596394797))"
            ]
          },
          "metadata": {},
          "execution_count": 66
        }
      ],
      "source": [
        "x_mid_1995 = 1995.5 - x_year[0]\n",
        "x_2020     = 2020   - x_year[0]\n",
        "\n",
        "y_mid_1995 = fhat(best_beta, np.array([x_mid_1995]))[0]\n",
        "y_2020     = fhat(best_beta, np.array([x_2020]))[0]\n",
        "\n",
        "y_mid_1995, y_2020"
      ]
    },
    {
      "cell_type": "code",
      "source": [
        "round(y_mid_1995,3), round(y_2020,3)"
      ],
      "metadata": {
        "colab": {
          "base_uri": "https://localhost:8080/"
        },
        "id": "kU1zQSXvWyk4",
        "outputId": "9d07553e-af1b-4651-eb36-62eda1ade537"
      },
      "id": "kU1zQSXvWyk4",
      "execution_count": 67,
      "outputs": [
        {
          "output_type": "execute_result",
          "data": {
            "text/plain": [
              "(np.float64(1035.387), np.float64(-249925.286))"
            ]
          },
          "metadata": {},
          "execution_count": 67
        }
      ]
    },
    {
      "cell_type": "markdown",
      "source": [
        "**Interpretación (interpolación vs. extrapolación)**\n",
        "\n",
        "- Con el polinomio de mejor ajuste, la interpolación en 1995.5 arroja\n",
        "  $\\hat{y}(1995.5)\\approx 1035.379$ miles, consistente con los datos cercanos (dentro del rango).\n",
        "- La extrapolación a 2020 da\n",
        "  $\\hat{y}(2020)\\approx -251443.407$ miles, un valor no realista.\n",
        "  Esto ilustra que fuera del intervalo de entrenamiento los polinomios pueden crecer/oscilar y producir predicciones sin sentido."
      ],
      "metadata": {
        "id": "W7fD2voGbS92"
      },
      "id": "W7fD2voGbS92"
    },
    {
      "cell_type": "markdown",
      "source": [
        "**Interpretación de resultados**\n",
        "\n",
        "- Se ajustaron polinomios de grado \\(1\\) a \\(5\\) mediante mínimos cuadrados y se compararon los errores cuadráticos acumulados.  \n",
        "  El mejor ajuste es el polinomio del grado indicado en la gráfica de errores (el de menor valor).\n",
        "- Con ese modelo:\n",
        "  - **Interpolación** (dentro del rango 1988–2001): la predicción en mediados de 1995 $\\hat{y}(1995.5)$ coincide con la tendencia de los puntos cercanos (1994–1996) y es confiable al estar dentro del intervalo de entrenamiento.\n",
        "  - **Extrapolación** (fuera del rango): la predicción para 2020 $\\hat{y}(2020)$ es menos confiable. Los polinomios pueden crecer u oscilar fuera de los datos y no reflejar la realidad; por ello, la estimación para 2020 debe interpretarse con cautela.\n",
        "- En general, grados más altos tienden a sobreajustar: disminuyen el error dentro de la muestra, pero empeoran la extrapolación. El grado seleccionado equilibra ajuste y estabilidad."
      ],
      "metadata": {
        "id": "xShmBAjSW4x3"
      },
      "id": "xShmBAjSW4x3"
    }
  ],
  "metadata": {
    "kernelspec": {
      "display_name": "Python 3 (ipykernel)",
      "language": "python",
      "name": "python3"
    },
    "language_info": {
      "codemirror_mode": {
        "name": "ipython",
        "version": 3
      },
      "file_extension": ".py",
      "mimetype": "text/x-python",
      "name": "python",
      "nbconvert_exporter": "python",
      "pygments_lexer": "ipython3",
      "version": "3.11.5"
    },
    "colab": {
      "provenance": []
    }
  },
  "nbformat": 4,
  "nbformat_minor": 5
}
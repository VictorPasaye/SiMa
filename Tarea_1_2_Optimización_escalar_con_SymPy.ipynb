{
  "nbformat": 4,
  "nbformat_minor": 0,
  "metadata": {
    "colab": {
      "provenance": []
    },
    "kernelspec": {
      "name": "python3",
      "display_name": "Python 3"
    },
    "language_info": {
      "name": "python"
    }
  },
  "cells": [
    {
      "cell_type": "markdown",
      "source": [
        "# Problemas de optimización escalar\n",
        "Resuelva los siguientes problemas usando la librería `SymPy`. Use celdas en `Markdown` para explicar su procedimiento, así como los resultados obtenidos."
      ],
      "metadata": {
        "id": "wQWrkxnk8xAz"
      }
    },
    {
      "cell_type": "markdown",
      "source": [
        "1. El perímetro de un triángulo isósceles es de $10 cm$. ¿Cuánto deben medir sus lados para que el volumen del cuerpo generado por la rotación del triángulo en torno a su base sea el mayor posible? (Volumen de un cono $= \\frac{1}{3}\\pi r^2 h$, donde $r$ es el radio de la base y $h$ la altura del cono)."
      ],
      "metadata": {
        "id": "7c9ab28c82ao"
      }
    },
    {
      "cell_type": "code",
      "source": [
        "import sympy as sym\n",
        "import numpy as np\n",
        "import matplotlib.pyplot as plt"
      ],
      "metadata": {
        "id": "qjLq0X9r88bz"
      },
      "execution_count": 2,
      "outputs": []
    },
    {
      "cell_type": "code",
      "source": [
        "b = sym.var('b')\n",
        "h = sym.sqrt(((10-b)/2)**2 - (b/2)**2)\n",
        "V = (1/3)*sym.pi*(b/2)**2*h\n",
        "V"
      ],
      "metadata": {
        "colab": {
          "base_uri": "https://localhost:8080/",
          "height": 68
        },
        "id": "y98bt-LPjk68",
        "outputId": "aa365b19-79a1-4116-dd63-52a552e8a81f"
      },
      "execution_count": 3,
      "outputs": [
        {
          "output_type": "execute_result",
          "data": {
            "text/plain": [
              "0.0833333333333333*pi*b**2*sqrt(-b**2/4 + (5 - b/2)**2)"
            ],
            "text/latex": "$\\displaystyle 0.0833333333333333 \\pi b^{2} \\sqrt{- \\frac{b^{2}}{4} + \\left(5 - \\frac{b}{2}\\right)^{2}}$"
          },
          "metadata": {},
          "execution_count": 3
        }
      ]
    },
    {
      "cell_type": "code",
      "source": [
        "dV = V.diff()\n",
        "dV"
      ],
      "metadata": {
        "colab": {
          "base_uri": "https://localhost:8080/",
          "height": 80
        },
        "id": "OByfzlfkjoYb",
        "outputId": "2949175e-e779-447e-a939-a939fb9a749d"
      },
      "execution_count": 4,
      "outputs": [
        {
          "output_type": "execute_result",
          "data": {
            "text/plain": [
              "-0.208333333333333*pi*b**2/sqrt(-b**2/4 + (5 - b/2)**2) + 0.166666666666667*pi*b*sqrt(-b**2/4 + (5 - b/2)**2)"
            ],
            "text/latex": "$\\displaystyle - \\frac{0.208333333333333 \\pi b^{2}}{\\sqrt{- \\frac{b^{2}}{4} + \\left(5 - \\frac{b}{2}\\right)^{2}}} + 0.166666666666667 \\pi b \\sqrt{- \\frac{b^{2}}{4} + \\left(5 - \\frac{b}{2}\\right)^{2}}$"
          },
          "metadata": {},
          "execution_count": 4
        }
      ]
    },
    {
      "cell_type": "code",
      "source": [
        "c = sym.solve(dV, b)\n",
        "c"
      ],
      "metadata": {
        "colab": {
          "base_uri": "https://localhost:8080/"
        },
        "id": "wbnwA3yqjtbZ",
        "outputId": "581d8924-8a74-4199-ca2f-6aff593fe7cf"
      },
      "execution_count": 5,
      "outputs": [
        {
          "output_type": "execute_result",
          "data": {
            "text/plain": [
              "[0.0, 4.00000000000000]"
            ]
          },
          "metadata": {},
          "execution_count": 5
        }
      ]
    },
    {
      "cell_type": "code",
      "source": [
        "dV2 = dV.diff()\n",
        "dV2"
      ],
      "metadata": {
        "colab": {
          "base_uri": "https://localhost:8080/",
          "height": 85
        },
        "id": "u5TGT-GMjrZJ",
        "outputId": "e29c08fe-a86b-401d-c3bd-25a173e075ff"
      },
      "execution_count": 6,
      "outputs": [
        {
          "output_type": "execute_result",
          "data": {
            "text/plain": [
              "-0.520833333333333*pi*b**2/(-b**2/4 + (5 - b/2)**2)**(3/2) - 0.833333333333333*pi*b/sqrt(-b**2/4 + (5 - b/2)**2) + 0.166666666666667*pi*sqrt(-b**2/4 + (5 - b/2)**2)"
            ],
            "text/latex": "$\\displaystyle - \\frac{0.520833333333333 \\pi b^{2}}{\\left(- \\frac{b^{2}}{4} + \\left(5 - \\frac{b}{2}\\right)^{2}\\right)^{\\frac{3}{2}}} - \\frac{0.833333333333333 \\pi b}{\\sqrt{- \\frac{b^{2}}{4} + \\left(5 - \\frac{b}{2}\\right)^{2}}} + 0.166666666666667 \\pi \\sqrt{- \\frac{b^{2}}{4} + \\left(5 - \\frac{b}{2}\\right)^{2}}$"
          },
          "metadata": {},
          "execution_count": 6
        }
      ]
    },
    {
      "cell_type": "code",
      "source": [
        "f = sym.lambdify(b, V, \"numpy\")       # <- esta línea arregla el error\n",
        "bx = np.linspace(0.01, 5, 400)        # dominio válido: 0 < b ≤ 5\n",
        "plt.plot(bx, f(bx))\n",
        "b_max = 4\n",
        "V_max = f(b_max)\n",
        "plt.plot(b_max, V_max, 'r*', ms=10)   # punto rojo\n",
        "plt.legend()\n",
        "plt.title(\"Volumen del cono en función de la base\")\n",
        "plt.xlabel(\"Base (cm)\")\n",
        "plt.ylabel(\"Volumen (cm³)\")\n",
        "plt.grid(True)\n",
        "plt.grid()"
      ],
      "metadata": {
        "colab": {
          "base_uri": "https://localhost:8080/",
          "height": 527
        },
        "id": "ebC1RZido--P",
        "outputId": "30e7bb70-faf9-4be5-a695-4ba2569d7d35"
      },
      "execution_count": 7,
      "outputs": [
        {
          "output_type": "stream",
          "name": "stderr",
          "text": [
            "/tmp/ipython-input-2583944047.py:7: UserWarning: No artists with labels found to put in legend.  Note that artists whose label start with an underscore are ignored when legend() is called with no argument.\n",
            "  plt.legend()\n"
          ]
        },
        {
          "output_type": "display_data",
          "data": {
            "text/plain": [
              "<Figure size 640x480 with 1 Axes>"
            ],
            "image/png": "[encoded data removed]"
          },
          "metadata": {}
        }
      ]
    },
    {
      "cell_type": "markdown",
      "source": [
        "El perímetro del triángulo isósceles es de **10 cm**.  \n",
        "Queremos maximizar el volumen del cono formado al girar el triángulo alrededor de su base.  \n",
        "\n",
        "- Sea `b` la base del triángulo.  \n",
        "- Los lados iguales miden:  \n",
        "$\n",
        "\\frac{10-b}{2}\n",
        "$\n",
        "\n",
        "- La altura del triángulo se obtiene con Pitágoras:  \n",
        "$\n",
        "h = \\sqrt{\\left(\\frac{10-b}{2}\\right)^2 - \\left(\\frac{b}{2}\\right)^2}\n",
        "$\n",
        "\n",
        "- Al girar el triángulo alrededor de su base, se forma un cono de radio:  \n",
        "$\n",
        "r = \\frac{b}{2}\n",
        "$\n",
        "\n",
        "- Volumen del cono:  \n",
        "$\n",
        "V = \\frac{1}{3}\\pi r^2 h = \\frac{1}{12}\\pi b^2 \\sqrt{\\left(\\frac{10-b}{2}\\right)^2 - \\left(\\frac{b}{2}\\right)^2}\n",
        "$\n",
        "\n",
        "\n",
        "### Cálculo de puntos críticos\n",
        "\n",
        "- Derivando e igualando a cero:  \n",
        "$\n",
        "V'(b) = 0 \\quad \\Rightarrow \\quad b = 0 \\quad \\text{o} \\quad b = 4\n",
        "$\n",
        "\n",
        "- El caso \\(b=0\\) no es válido geométricamente.  \n",
        "- Entonces, el valor óptimo es:  \n",
        "$\n",
        "b = 4 \\, \\text{cm}\n",
        "$\n",
        "\n",
        "\n",
        "### Resultados\n",
        "\n",
        "- **Base**: $ b = 4 \\, \\text{cm} $\n",
        "- **Lados iguales**:  \n",
        "$\n",
        "\\frac{10-b}{2} = 3 \\, \\text{cm}\n",
        "$\n",
        "- **Altura del triángulo (y del cono)**:  \n",
        "$\n",
        "h = \\sqrt{3^2 - 2^2} = \\sqrt{5} \\approx 2.236 \\, \\text{cm}\n",
        "$\n",
        "- **Radio del cono**: $ r = 2 \\, \\text{cm} $  \n",
        "- **Volumen máximo**:  \n",
        "$\n",
        "V = \\frac{1}{3}\\pi r^2 h = \\frac{1}{3}\\pi (2^2)(\\sqrt{5}) \\approx 9.36 \\, \\text{cm}^3\n",
        "$\n",
        "\n",
        "\n",
        "### Conclusión\n",
        "\n",
        "El volumen máximo del sólido de revolución se obtiene cuando:  \n",
        "- **Base = 4 cm**  \n",
        "- **Lados = 3 cm**  \n",
        "\n",
        "y el volumen es aproximadamente **9.36 cm³**."
      ],
      "metadata": {
        "id": "J30akv_qlY5e"
      }
    },
    {
      "cell_type": "markdown",
      "source": [
        "2. Disponemos de una barra de aluminio de 6 metros para construir una portería de fútbol. Si queremos que el área de la portería sea máxima, ¿cuánto deben medir los postes y el travesaño?"
      ],
      "metadata": {
        "id": "1kvio5Eq8_J4"
      }
    },
    {
      "cell_type": "code",
      "source": [
        "h = sym.var('h')\n",
        "A = h*(6 - 2*h)\n",
        "A"
      ],
      "metadata": {
        "id": "crqDqG8z9EjH",
        "colab": {
          "base_uri": "https://localhost:8080/",
          "height": 38
        },
        "outputId": "253f4b3b-4a3a-44ad-f295-433c92d9ba75"
      },
      "execution_count": 8,
      "outputs": [
        {
          "output_type": "execute_result",
          "data": {
            "text/plain": [
              "h*(6 - 2*h)"
            ],
            "text/latex": "$\\displaystyle h \\left(6 - 2 h\\right)$"
          },
          "metadata": {},
          "execution_count": 8
        }
      ]
    },
    {
      "cell_type": "code",
      "source": [
        "dA = A.diff()\n",
        "dA"
      ],
      "metadata": {
        "colab": {
          "base_uri": "https://localhost:8080/",
          "height": 38
        },
        "id": "gRXgx2KTnUtd",
        "outputId": "b9942b58-3718-4b74-b1b8-338e42cc1191"
      },
      "execution_count": 9,
      "outputs": [
        {
          "output_type": "execute_result",
          "data": {
            "text/plain": [
              "6 - 4*h"
            ],
            "text/latex": "$\\displaystyle 6 - 4 h$"
          },
          "metadata": {},
          "execution_count": 9
        }
      ]
    },
    {
      "cell_type": "code",
      "source": [
        "c = sym.solve(dA, h)\n",
        "c"
      ],
      "metadata": {
        "colab": {
          "base_uri": "https://localhost:8080/"
        },
        "id": "ShpEj4t3nWjX",
        "outputId": "62ae1f5a-74f5-4f5d-df65-6d3d47f2ecc4"
      },
      "execution_count": 10,
      "outputs": [
        {
          "output_type": "execute_result",
          "data": {
            "text/plain": [
              "[3/2]"
            ]
          },
          "metadata": {},
          "execution_count": 10
        }
      ]
    },
    {
      "cell_type": "code",
      "source": [
        "dA2 = dA.diff()\n",
        "dA2"
      ],
      "metadata": {
        "colab": {
          "base_uri": "https://localhost:8080/",
          "height": 37
        },
        "id": "bHDbEdV9nY6m",
        "outputId": "ed6f23f1-1fb3-441b-92a9-31c8a72d6415"
      },
      "execution_count": 11,
      "outputs": [
        {
          "output_type": "execute_result",
          "data": {
            "text/plain": [
              "-4"
            ],
            "text/latex": "$\\displaystyle -4$"
          },
          "metadata": {},
          "execution_count": 11
        }
      ]
    },
    {
      "cell_type": "code",
      "source": [
        "f = sym.lambdify(h, A, \"numpy\")\n",
        "hx = np.linspace(0, 3, 400)\n",
        "plt.plot(hx, f(hx))\n",
        "\n",
        "\n",
        "h_max = float(c[0])      # h crítico\n",
        "A_max = f(h_max)\n",
        "plt.plot(h_max, A_max, 'r*', ms=10)  # punto rojo\n",
        "plt.legend()\n",
        "\n",
        "plt.title(\"Área de la portería en función de la altura\")\n",
        "plt.xlabel(\"Altura (m)\")\n",
        "plt.ylabel(\"Área (m²)\")\n",
        "plt.grid(True)\n",
        "plt.show()"
      ],
      "metadata": {
        "colab": {
          "base_uri": "https://localhost:8080/",
          "height": 529
        },
        "id": "bpXv97lws5lB",
        "outputId": "5387d032-7e91-4ff0-f4c9-ac5e3c5535d2"
      },
      "execution_count": 12,
      "outputs": [
        {
          "output_type": "stream",
          "name": "stderr",
          "text": [
            "/tmp/ipython-input-2907146143.py:9: UserWarning: No artists with labels found to put in legend.  Note that artists whose label start with an underscore are ignored when legend() is called with no argument.\n",
            "  plt.legend()\n"
          ]
        },
        {
          "output_type": "display_data",
          "data": {
            "text/plain": [
              "<Figure size 640x480 with 1 Axes>"
            ],
            "image/png": "[encoded data removed]"
          },
          "metadata": {}
        }
      ]
    },
    {
      "cell_type": "markdown",
      "source": [
        "\n",
        "\n",
        "Disponemos de una barra de aluminio de **6 m** para construir una portería de fútbol rectangular.  \n",
        "Queremos maximizar el área de la portería.  \n",
        "\n",
        "\n",
        "### Desarrollo\n",
        "\n",
        "- Sea `h` la altura de los postes.  \n",
        "- El ancho será:\n",
        "$\n",
        "w = 6 - 2h\n",
        "$\n",
        "(porque la barra total se reparte en 2 postes y 1 travesaño).  \n",
        "\n",
        "- Área de la portería:\n",
        "$\n",
        "A = h \\cdot w = h(6 - 2h)\n",
        "$\n",
        "\n",
        "\n",
        "### Cálculo de puntos críticos\n",
        "\n",
        "- Derivada de la función área:\n",
        "$\n",
        "A'(h) = 6 - 4h\n",
        "$\n",
        "\n",
        "- Igualamos a cero:\n",
        "$\n",
        "6 - 4h = 0 \\quad \\Rightarrow \\quad h = 1.5\n",
        "$\n",
        "\n",
        "- Con este valor:\n",
        "$\n",
        "w = 6 - 2(1.5) = 3\n",
        "$\n",
        "\n",
        "\n",
        "### Resultados\n",
        "\n",
        "- **Altura de los postes**: $ h = 1.5 \\, \\text{m} $\n",
        "- **Ancho del travesaño**: $ w = 3 \\, \\text{m} $  \n",
        "- **Área máxima**:  \n",
        "$\n",
        "A = 1.5 \\cdot 3 = 4.5 \\, \\text{m}^2\n",
        "$\n",
        "\n",
        "\n",
        "### Conclusión\n",
        "\n",
        "Para que el área de la portería sea máxima, los **postes deben medir 1.5 m**  \n",
        "y el **travesaño debe medir 3 m**, obteniendo un área máxima de **4.5 m²**."
      ],
      "metadata": {
        "id": "i2qCJfwona9t"
      }
    }
  ]
}
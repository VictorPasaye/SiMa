{
  "nbformat": 4,
  "nbformat_minor": 0,
  "metadata": {
    "colab": {
      "provenance": []
    },
    "kernelspec": {
      "name": "python3",
      "display_name": "Python 3"
    },
    "language_info": {
      "name": "python"
    }
  },
  "cells": [
    {
      "cell_type": "code",
      "execution_count": 1,
      "metadata": {
        "id": "aP7ubeylUaLE"
      },
      "outputs": [],
      "source": [
        "import numpy as np"
      ]
    },
    {
      "cell_type": "code",
      "source": [
        "#Crrear una función que regrese todos los numeros primos menores a un valor recibido como argumento"
      ],
      "metadata": {
        "id": "27AaJ6eOOK-d"
      },
      "execution_count": 2,
      "outputs": []
    },
    {
      "cell_type": "code",
      "source": [
        "5%np.arange(2,5)"
      ],
      "metadata": {
        "colab": {
          "base_uri": "https://localhost:8080/"
        },
        "id": "ETbbREjqORlQ",
        "outputId": "c07a4897-e517-42f4-88ce-b4daaca52094"
      },
      "execution_count": 3,
      "outputs": [
        {
          "output_type": "execute_result",
          "data": {
            "text/plain": [
              "array([1, 2, 1])"
            ]
          },
          "metadata": {},
          "execution_count": 3
        }
      ]
    },
    {
      "cell_type": "code",
      "source": [
        "(5%np.arange(2,5))==0"
      ],
      "metadata": {
        "colab": {
          "base_uri": "https://localhost:8080/"
        },
        "id": "Sb6ctEw3Ohbr",
        "outputId": "8ae5f9ce-13e4-4943-dad3-1c132bd0d4b9"
      },
      "execution_count": 4,
      "outputs": [
        {
          "output_type": "execute_result",
          "data": {
            "text/plain": [
              "array([False, False, False])"
            ]
          },
          "metadata": {},
          "execution_count": 4
        }
      ]
    },
    {
      "cell_type": "code",
      "source": [
        "divisibles=(5%np.arange(2,5))==0\n",
        "divisibles"
      ],
      "metadata": {
        "colab": {
          "base_uri": "https://localhost:8080/"
        },
        "id": "mi8jriqROsRp",
        "outputId": "8320bb6f-a650-4dd8-8b38-cc67ceba5372"
      },
      "execution_count": 5,
      "outputs": [
        {
          "output_type": "execute_result",
          "data": {
            "text/plain": [
              "array([False, False, False])"
            ]
          },
          "metadata": {},
          "execution_count": 5
        }
      ]
    },
    {
      "cell_type": "code",
      "source": [
        "divisibles.any()"
      ],
      "metadata": {
        "colab": {
          "base_uri": "https://localhost:8080/"
        },
        "id": "iBlU0Wo6PxTF",
        "outputId": "5d5fe01b-9d6b-4805-b2eb-183a8f7d3162"
      },
      "execution_count": 6,
      "outputs": [
        {
          "output_type": "execute_result",
          "data": {
            "text/plain": [
              "np.False_"
            ]
          },
          "metadata": {},
          "execution_count": 6
        }
      ]
    },
    {
      "cell_type": "code",
      "source": [
        "divisibles=(8%np.arange(2,8))==0\n",
        "divisibles.any()"
      ],
      "metadata": {
        "colab": {
          "base_uri": "https://localhost:8080/"
        },
        "id": "1IG5z9KiQME6",
        "outputId": "0d56f53f-61d0-4a70-9f4d-3b17e4c7c6b1"
      },
      "execution_count": 7,
      "outputs": [
        {
          "output_type": "execute_result",
          "data": {
            "text/plain": [
              "np.True_"
            ]
          },
          "metadata": {},
          "execution_count": 7
        }
      ]
    },
    {
      "cell_type": "code",
      "source": [
        "def primos(n):\n",
        "    primos = []\n",
        "    for num in range(2, n):\n",
        "        divisores = np.arange(2, int(np.sqrt(num)) + 1)\n",
        "        if not (num % divisores == 0).any():\n",
        "            primos.append(num)\n",
        "    return primos\n",
        "\n",
        "print(primos(25))"
      ],
      "metadata": {
        "colab": {
          "base_uri": "https://localhost:8080/"
        },
        "id": "MZplfZBrQhHf",
        "outputId": "e11df78d-c551-4ecd-b29b-03d698d07b08"
      },
      "execution_count": 15,
      "outputs": [
        {
          "output_type": "stream",
          "name": "stdout",
          "text": [
            "[2, 3, 5, 7, 11, 13, 17, 19, 23]\n"
          ]
        }
      ]
    },
    {
      "cell_type": "code",
      "source": [
        "#Código que dio Chat"
      ],
      "metadata": {
        "id": "hrEbG5ZwVjte"
      },
      "execution_count": 10,
      "outputs": []
    },
    {
      "cell_type": "code",
      "source": [
        "import numpy as np\n",
        "\n",
        "def primos_menores(n):\n",
        "    if n < 2:\n",
        "        return []\n",
        "\n",
        "    # Inicializamos un arreglo booleano: True = primo, False = no primo\n",
        "    es_primo = np.ones(n, dtype=bool)\n",
        "    es_primo[:2] = False  # 0 y 1 no son primos\n",
        "\n",
        "    limite = int(np.sqrt(n)) + 1\n",
        "    for i in range(2, limite):\n",
        "        if es_primo[i]:\n",
        "            # Marcamos como no primos todos los múltiplos de i\n",
        "            es_primo[i*i:n:i] = False\n",
        "\n",
        "    return np.nonzero(es_primo)[0].tolist()\n",
        "\n",
        "# Ejemplo\n",
        "print(primos_menores(33))"
      ],
      "metadata": {
        "colab": {
          "base_uri": "https://localhost:8080/"
        },
        "id": "sZg5tbHlVndk",
        "outputId": "829861a4-5e04-408d-b78f-1572e49afc09"
      },
      "execution_count": 17,
      "outputs": [
        {
          "output_type": "stream",
          "name": "stdout",
          "text": [
            "[2, 3, 5, 7, 11, 13, 17, 19, 23, 29, 31]\n"
          ]
        }
      ]
    },
    {
      "cell_type": "markdown",
      "source": [
        "Comparando ambos códigos, llego a la conclusión de que mi código es mejor porque es más corto y está mas optimizado, entonces no tomaría en cuenta los cambios que me hizo Chat porque es un código más largo y más complejo, para al final llegar al mismo resultado que mi código."
      ],
      "metadata": {
        "id": "iOf3TUE8WX-G"
      }
    }
  ]
}
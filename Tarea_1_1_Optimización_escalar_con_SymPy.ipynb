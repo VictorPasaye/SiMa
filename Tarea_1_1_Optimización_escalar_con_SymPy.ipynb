{
  "cells": [
    {
      "cell_type": "markdown",
      "id": "dae16770",
      "metadata": {
        "id": "dae16770"
      },
      "source": [
        "# Optimización escalar con SymPy: criterio conocido"
      ]
    },
    {
      "cell_type": "markdown",
      "id": "09ba4558",
      "metadata": {
        "id": "09ba4558"
      },
      "source": [
        "Para la siguientes funciones encuentre los puntos críticos, grafique y diga si éste se trata de un máximo o mínimo, local o global."
      ]
    },
    {
      "cell_type": "markdown",
      "id": "3600ad24",
      "metadata": {
        "id": "3600ad24"
      },
      "source": [
        "1. $f(x)=x+\\frac{1}{x^2}$"
      ]
    },
    {
      "cell_type": "code",
      "execution_count": 4,
      "id": "aa844fa8",
      "metadata": {
        "id": "aa844fa8"
      },
      "outputs": [],
      "source": [
        "import sympy as sym\n",
        "import matplotlib.pyplot as plt\n",
        "import numpy as np"
      ]
    },
    {
      "cell_type": "code",
      "source": [
        "x = sym.var('x')\n",
        "def h(x):\n",
        "  return x + 1/x**2\n",
        "h(x)"
      ],
      "metadata": {
        "colab": {
          "base_uri": "https://localhost:8080/",
          "height": 51
        },
        "id": "OtDWPWYxs2Qi",
        "outputId": "b1010e7e-eade-4f6c-d13b-9ab9b32cbd4e"
      },
      "id": "OtDWPWYxs2Qi",
      "execution_count": 7,
      "outputs": [
        {
          "output_type": "execute_result",
          "data": {
            "text/plain": [
              "x + x**(-2)"
            ],
            "text/latex": "$\\displaystyle x + \\frac{1}{x^{2}}$"
          },
          "metadata": {},
          "execution_count": 7
        }
      ]
    },
    {
      "cell_type": "code",
      "source": [
        "dh = h(x).diff()\n",
        "c = sym.solve(dh, x)\n",
        "c"
      ],
      "metadata": {
        "colab": {
          "base_uri": "https://localhost:8080/"
        },
        "id": "3ljw6U8Vs6aF",
        "outputId": "051b0e7f-5a4f-4243-9a96-42a075cf5a6f"
      },
      "id": "3ljw6U8Vs6aF",
      "execution_count": 8,
      "outputs": [
        {
          "output_type": "execute_result",
          "data": {
            "text/plain": [
              "[2**(1/3),\n",
              " -2**(1/3)/2 - 2**(1/3)*sqrt(3)*I/2,\n",
              " -2**(1/3)/2 + 2**(1/3)*sqrt(3)*I/2]"
            ]
          },
          "metadata": {},
          "execution_count": 8
        }
      ]
    },
    {
      "cell_type": "code",
      "source": [
        "ddh = dh.diff()           # Segunda derivada\n",
        "ddh.subs(x, c[0])"
      ],
      "metadata": {
        "colab": {
          "base_uri": "https://localhost:8080/",
          "height": 56
        },
        "id": "0aNZLf7TtQON",
        "outputId": "3728d50a-6a46-4358-d796-e562adbc8139"
      },
      "id": "0aNZLf7TtQON",
      "execution_count": 43,
      "outputs": [
        {
          "output_type": "execute_result",
          "data": {
            "text/plain": [
              "3*2**(2/3)/2"
            ],
            "text/latex": "$\\displaystyle \\frac{3 \\cdot 2^{\\frac{2}{3}}}{2}$"
          },
          "metadata": {},
          "execution_count": 43
        }
      ]
    },
    {
      "cell_type": "code",
      "source": [
        "x_num = np.linspace(-4, 50, 400)\n",
        "x_num = x_num[x_num != 0]   # quitar x=0\n",
        "y_num = h(x_num)\n",
        "\n",
        "plt.plot(x_num, y_num)\n",
        "\n",
        "for ci in c:\n",
        "    if ci.is_real:  # solo si es real\n",
        "        ci_f = float(ci)\n",
        "        plt.plot(ci_f, float(h(ci_f)), 'r*', ms=10)\n",
        "        plt.text(ci_f, float(h(ci_f))+5, f'({ci_f:.2f},{float(h(ci_f)):.2f})', fontsize=12)\n",
        "\n",
        "plt.grid()\n",
        "plt.show()"
      ],
      "metadata": {
        "colab": {
          "base_uri": "https://localhost:8080/",
          "height": 430
        },
        "id": "gOeNJenTui-W",
        "outputId": "ce88d481-237d-448b-92e0-5fc9f8d206ff"
      },
      "id": "gOeNJenTui-W",
      "execution_count": 34,
      "outputs": [
        {
          "output_type": "display_data",
          "data": {
            "text/plain": [
              "<Figure size 640x480 with 1 Axes>"
            ],
            "image/png": "[encoded data removed]"
          },
          "metadata": {}
        }
      ]
    },
    {
      "cell_type": "markdown",
      "id": "39cfc1dd",
      "metadata": {
        "id": "39cfc1dd"
      },
      "source": [
        "2. $f(x)=1260+117x-9x^2$"
      ]
    },
    {
      "cell_type": "code",
      "execution_count": 21,
      "id": "75921cf8",
      "metadata": {
        "id": "75921cf8"
      },
      "outputs": [],
      "source": [
        "import sympy as sym\n",
        "import matplotlib.pyplot as plt\n",
        "import numpy as np"
      ]
    },
    {
      "cell_type": "code",
      "source": [
        "x = sym.var('x')\n",
        "def h(x):\n",
        "  return 1260 + 117*x - 9*x**2\n",
        "\n",
        "h(x)"
      ],
      "metadata": {
        "colab": {
          "base_uri": "https://localhost:8080/",
          "height": 38
        },
        "id": "f81f22KYxm7l",
        "outputId": "0a53f078-4c5a-4be1-8bb7-eb0dd989ffd1"
      },
      "id": "f81f22KYxm7l",
      "execution_count": 24,
      "outputs": [
        {
          "output_type": "execute_result",
          "data": {
            "text/plain": [
              "-9*x**2 + 117*x + 1260"
            ],
            "text/latex": "$\\displaystyle - 9 x^{2} + 117 x + 1260$"
          },
          "metadata": {},
          "execution_count": 24
        }
      ]
    },
    {
      "cell_type": "code",
      "source": [
        "dh = h(x).diff()\n",
        "c = sym.solve(dh, x)\n",
        "c"
      ],
      "metadata": {
        "colab": {
          "base_uri": "https://localhost:8080/"
        },
        "id": "Vt-ISZ52xtKD",
        "outputId": "49aac986-433b-4b5d-f848-4646929256ae"
      },
      "id": "Vt-ISZ52xtKD",
      "execution_count": 25,
      "outputs": [
        {
          "output_type": "execute_result",
          "data": {
            "text/plain": [
              "[13/2]"
            ]
          },
          "metadata": {},
          "execution_count": 25
        }
      ]
    },
    {
      "cell_type": "code",
      "source": [
        "ddh = dh.diff()\n",
        "ddh.subs(x, c[0])"
      ],
      "metadata": {
        "colab": {
          "base_uri": "https://localhost:8080/",
          "height": 37
        },
        "id": "7RoNo8lmxytU",
        "outputId": "25895b46-0b7a-4714-9fd9-3dcacdd64a92"
      },
      "id": "7RoNo8lmxytU",
      "execution_count": 28,
      "outputs": [
        {
          "output_type": "execute_result",
          "data": {
            "text/plain": [
              "-18"
            ],
            "text/latex": "$\\displaystyle -18$"
          },
          "metadata": {},
          "execution_count": 28
        }
      ]
    },
    {
      "cell_type": "code",
      "source": [
        "x_num = np.linspace(-5, 20, 400)\n",
        "y_num = h(x_num)\n",
        "\n",
        "plt.plot(x_num, y_num)\n",
        "\n",
        "for ci in c:\n",
        "    if ci.is_real:\n",
        "        ci_f = float(ci)\n",
        "        plt.plot(ci_f, float(h(ci_f)), 'r*', ms=10)\n",
        "        plt.text(ci_f, float(h(ci_f))+20, f'({ci_f:.2f},{float(h(ci_f)):.2f})', fontsize=12)\n",
        "\n",
        "plt.grid()\n",
        "plt.show()"
      ],
      "metadata": {
        "colab": {
          "base_uri": "https://localhost:8080/",
          "height": 431
        },
        "id": "1SUz5eB1x04d",
        "outputId": "f2c08606-7c66-42d3-aac8-54a3750d6e93"
      },
      "id": "1SUz5eB1x04d",
      "execution_count": 27,
      "outputs": [
        {
          "output_type": "display_data",
          "data": {
            "text/plain": [
              "<Figure size 640x480 with 1 Axes>"
            ],
            "image/png": "[encoded data removed]"
          },
          "metadata": {}
        }
      ]
    },
    {
      "cell_type": "markdown",
      "id": "65206d6e",
      "metadata": {
        "id": "65206d6e"
      },
      "source": [
        "3. $f(x)=5+x+\\frac{4}{x}$, para $x>0$"
      ]
    },
    {
      "cell_type": "code",
      "execution_count": 35,
      "id": "bf7f119c",
      "metadata": {
        "id": "bf7f119c"
      },
      "outputs": [],
      "source": [
        "import sympy as sym\n",
        "import matplotlib.pyplot as plt\n",
        "import numpy as np"
      ]
    },
    {
      "cell_type": "code",
      "source": [
        "x = sym.var('x')\n",
        "def h(x):\n",
        "  return 5 + x + 4/x   # x > 0\n",
        "\n",
        "h(x)"
      ],
      "metadata": {
        "colab": {
          "base_uri": "https://localhost:8080/",
          "height": 51
        },
        "id": "XAcp_yyAzWL_",
        "outputId": "e4884f42-f940-4425-bfd7-074e5993e6eb"
      },
      "id": "XAcp_yyAzWL_",
      "execution_count": 45,
      "outputs": [
        {
          "output_type": "execute_result",
          "data": {
            "text/plain": [
              "x + 5 + 4/x"
            ],
            "text/latex": "$\\displaystyle x + 5 + \\frac{4}{x}$"
          },
          "metadata": {},
          "execution_count": 45
        }
      ]
    },
    {
      "cell_type": "code",
      "source": [
        "dh = h(x).diff()\n",
        "c = sym.solve(dh, x)\n",
        "c"
      ],
      "metadata": {
        "colab": {
          "base_uri": "https://localhost:8080/"
        },
        "id": "nCYpZsl1zYXV",
        "outputId": "8117e91c-ae03-4a5f-85f9-037160406b2a"
      },
      "id": "nCYpZsl1zYXV",
      "execution_count": 46,
      "outputs": [
        {
          "output_type": "execute_result",
          "data": {
            "text/plain": [
              "[-2, 2]"
            ]
          },
          "metadata": {},
          "execution_count": 46
        }
      ]
    },
    {
      "cell_type": "code",
      "source": [
        "ddh = dh.diff()\n",
        "[ddh.subs(x, ci) for ci in c]"
      ],
      "metadata": {
        "colab": {
          "base_uri": "https://localhost:8080/"
        },
        "id": "nfiLiS4czbbL",
        "outputId": "b8500f0c-d8ed-4165-8078-c028525add93"
      },
      "id": "nfiLiS4czbbL",
      "execution_count": 49,
      "outputs": [
        {
          "output_type": "execute_result",
          "data": {
            "text/plain": [
              "[-1, 1]"
            ]
          },
          "metadata": {},
          "execution_count": 49
        }
      ]
    },
    {
      "cell_type": "code",
      "source": [
        "x_num = np.linspace(0.2, 10, 400)  # solo valores positivos\n",
        "y_num = h(x_num)\n",
        "\n",
        "plt.plot(x_num, y_num)\n",
        "\n",
        "for ci in c:\n",
        "    if ci.is_real and ci > 0:   # solo x > 0\n",
        "        ci_f = float(ci)\n",
        "        plt.plot(ci_f, float(h(ci_f)), 'r*', ms=10)\n",
        "        plt.text(ci_f, float(h(ci_f))+2, f'({ci_f:.2f},{float(h(ci_f)):.2f})', fontsize=12)\n",
        "\n",
        "plt.grid()\n",
        "plt.show()"
      ],
      "metadata": {
        "colab": {
          "base_uri": "https://localhost:8080/",
          "height": 435
        },
        "id": "y3urXmn5zekx",
        "outputId": "04f16430-1aa3-44bc-cc1d-508cccd9329a"
      },
      "id": "y3urXmn5zekx",
      "execution_count": 50,
      "outputs": [
        {
          "output_type": "display_data",
          "data": {
            "text/plain": [
              "<Figure size 640x480 with 1 Axes>"
            ],
            "image/png": "[encoded data removed]"
          },
          "metadata": {}
        }
      ]
    },
    {
      "cell_type": "markdown",
      "id": "8fc86115",
      "metadata": {
        "id": "8fc86115"
      },
      "source": [
        "4. $f(x)=\\frac{15x}{2}\\sqrt{\\frac{x}{x-30}}$"
      ]
    },
    {
      "cell_type": "code",
      "execution_count": 51,
      "id": "aaeb2835",
      "metadata": {
        "id": "aaeb2835"
      },
      "outputs": [],
      "source": [
        "import sympy as sym\n",
        "import matplotlib.pyplot as plt\n",
        "import numpy as np"
      ]
    },
    {
      "cell_type": "code",
      "source": [
        "x = sym.var('x')\n",
        "def h(x):\n",
        "  return (15*x/2) * sym.sqrt(x/(x-30))\n",
        "\n",
        "h(x)"
      ],
      "metadata": {
        "colab": {
          "base_uri": "https://localhost:8080/",
          "height": 56
        },
        "id": "p7BzH9KD2Svd",
        "outputId": "d36c940e-8ceb-472d-8035-470265cfab02"
      },
      "id": "p7BzH9KD2Svd",
      "execution_count": 52,
      "outputs": [
        {
          "output_type": "execute_result",
          "data": {
            "text/plain": [
              "15*x*sqrt(x/(x - 30))/2"
            ],
            "text/latex": "$\\displaystyle \\frac{15 x \\sqrt{\\frac{x}{x - 30}}}{2}$"
          },
          "metadata": {},
          "execution_count": 52
        }
      ]
    },
    {
      "cell_type": "code",
      "source": [
        "dh = h(x).diff()\n",
        "c = sym.solve(dh, x)\n",
        "c"
      ],
      "metadata": {
        "colab": {
          "base_uri": "https://localhost:8080/"
        },
        "id": "BAi23WFn2WX2",
        "outputId": "f1010192-f5b4-44d3-b896-47893f6e192c"
      },
      "id": "BAi23WFn2WX2",
      "execution_count": 53,
      "outputs": [
        {
          "output_type": "execute_result",
          "data": {
            "text/plain": [
              "[0, 45]"
            ]
          },
          "metadata": {},
          "execution_count": 53
        }
      ]
    },
    {
      "cell_type": "code",
      "source": [
        "ddh = dh.diff()\n",
        "[ddh.subs(x, ci) for ci in c]"
      ],
      "metadata": {
        "colab": {
          "base_uri": "https://localhost:8080/"
        },
        "id": "8a6tZDsG2d02",
        "outputId": "2f426569-7633-48d6-9ba7-b8ec100715e5"
      },
      "id": "8a6tZDsG2d02",
      "execution_count": 55,
      "outputs": [
        {
          "output_type": "execute_result",
          "data": {
            "text/plain": [
              "[nan, sqrt(3)/2]"
            ]
          },
          "metadata": {},
          "execution_count": 55
        }
      ]
    },
    {
      "cell_type": "code",
      "source": [
        "x_num = np.linspace(31, 100, 400)\n",
        "y_num = [h(val) for val in x_num]\n",
        "\n",
        "plt.plot(x_num, y_num)\n",
        "\n",
        "for ci in c:\n",
        "    if ci.is_real and ci > 30:\n",
        "        ci_f = float(ci)\n",
        "        plt.plot(ci_f, float(h(ci_f)), 'r*', ms=10)\n",
        "        plt.text(ci_f, float(h(ci_f))+50, f'({ci_f:.2f},{float(h(ci_f)):.2f})', fontsize=12)\n",
        "\n",
        "plt.grid()\n",
        "plt.show()"
      ],
      "metadata": {
        "colab": {
          "base_uri": "https://localhost:8080/",
          "height": 430
        },
        "id": "w4gu3QbI2k7u",
        "outputId": "b6a72877-7e92-4742-9f69-7bcadffb16b3"
      },
      "id": "w4gu3QbI2k7u",
      "execution_count": 56,
      "outputs": [
        {
          "output_type": "display_data",
          "data": {
            "text/plain": [
              "<Figure size 640x480 with 1 Axes>"
            ],
            "image/png": "[encoded data removed]"
          },
          "metadata": {}
        }
      ]
    },
    {
      "cell_type": "markdown",
      "id": "bd7f30fd",
      "metadata": {
        "id": "bd7f30fd"
      },
      "source": [
        "5. $f(x)=6-2x+\\sqrt{18-2x^2}$, para $-3\\leq x\\leq 3$"
      ]
    },
    {
      "cell_type": "code",
      "execution_count": 57,
      "id": "1d255e07",
      "metadata": {
        "id": "1d255e07"
      },
      "outputs": [],
      "source": [
        "import sympy as sym\n",
        "import matplotlib.pyplot as plt\n",
        "import numpy as np"
      ]
    },
    {
      "cell_type": "code",
      "source": [
        "x = sym.var('x')\n",
        "def h(x):\n",
        "  return 6 - 2*x + sym.sqrt(18 - 2*x**2)\n",
        "\n",
        "h(x)"
      ],
      "metadata": {
        "colab": {
          "base_uri": "https://localhost:8080/",
          "height": 41
        },
        "id": "TTM338jI206s",
        "outputId": "1507e736-8b3c-42a1-bad0-207698fbfd7a"
      },
      "id": "TTM338jI206s",
      "execution_count": 73,
      "outputs": [
        {
          "output_type": "execute_result",
          "data": {
            "text/plain": [
              "-2*x + sqrt(18 - 2*x**2) + 6"
            ],
            "text/latex": "$\\displaystyle - 2 x + \\sqrt{18 - 2 x^{2}} + 6$"
          },
          "metadata": {},
          "execution_count": 73
        }
      ]
    },
    {
      "cell_type": "code",
      "source": [
        "dh = h(x).diff()\n",
        "c = sym.solve(dh, x)\n",
        "c"
      ],
      "metadata": {
        "colab": {
          "base_uri": "https://localhost:8080/"
        },
        "id": "NvwUVx90233j",
        "outputId": "a0dba073-ea67-4ec6-ed2c-dfef2d928a62"
      },
      "id": "NvwUVx90233j",
      "execution_count": 74,
      "outputs": [
        {
          "output_type": "execute_result",
          "data": {
            "text/plain": [
              "[-sqrt(6)]"
            ]
          },
          "metadata": {},
          "execution_count": 74
        }
      ]
    },
    {
      "cell_type": "code",
      "source": [
        "ddh = dh.diff()\n",
        "[ddh.subs(x, ci) for ci in c]"
      ],
      "metadata": {
        "colab": {
          "base_uri": "https://localhost:8080/"
        },
        "id": "eC87HAko260c",
        "outputId": "a5300152-fd2e-4f99-d2a5-b9795c756505"
      },
      "id": "eC87HAko260c",
      "execution_count": 76,
      "outputs": [
        {
          "output_type": "execute_result",
          "data": {
            "text/plain": [
              "[-sqrt(6)]"
            ]
          },
          "metadata": {},
          "execution_count": 76
        }
      ]
    },
    {
      "cell_type": "code",
      "source": [
        "x_num = np.linspace(-3, 3, 400)\n",
        "y_num = [h(val) for val in x_num]\n",
        "\n",
        "plt.plot(x_num, y_num)\n",
        "\n",
        "for ci in c:\n",
        "    if ci.is_real and -3 <= ci <= 3:\n",
        "        ci_f = float(ci)\n",
        "        plt.plot(ci_f, float(h(ci_f)), 'r*', ms=10)\n",
        "        plt.text(ci_f, float(h(ci_f))+0.5, f'({ci_f:.2f},{float(h(ci_f)):.2f})', fontsize=12)\n",
        "\n",
        "plt.grid()\n",
        "plt.show()"
      ],
      "metadata": {
        "colab": {
          "base_uri": "https://localhost:8080/",
          "height": 440
        },
        "id": "SUwJ3Nly3Akz",
        "outputId": "deeae11c-3e6e-4138-8b5c-df7d7b88565a"
      },
      "id": "SUwJ3Nly3Akz",
      "execution_count": 61,
      "outputs": [
        {
          "output_type": "display_data",
          "data": {
            "text/plain": [
              "<Figure size 640x480 with 1 Axes>"
            ],
            "image/png": "[encoded data removed]"
          },
          "metadata": {}
        }
      ]
    },
    {
      "cell_type": "markdown",
      "id": "de2ea1f9",
      "metadata": {
        "id": "de2ea1f9"
      },
      "source": [
        "6. $f(x)=\\frac{1}{4}x^4+\\frac{1}{3}x^3-x^2$ en el intervalo $[-3,1.7]$"
      ]
    },
    {
      "cell_type": "code",
      "execution_count": 62,
      "id": "084657cf",
      "metadata": {
        "id": "084657cf"
      },
      "outputs": [],
      "source": [
        "import sympy as sym\n",
        "import matplotlib.pyplot as plt\n",
        "import numpy as np"
      ]
    },
    {
      "cell_type": "code",
      "source": [
        "x = sym.var('x')\n",
        "def h(x):\n",
        "  return (1/4)*x**4 + (1/3)*x**3 - x**2\n",
        "\n",
        "h(x)"
      ],
      "metadata": {
        "colab": {
          "base_uri": "https://localhost:8080/",
          "height": 38
        },
        "id": "6AfHUn1t3j8W",
        "outputId": "fdd108fa-3ebf-4aa5-d078-b14431a666cf"
      },
      "id": "6AfHUn1t3j8W",
      "execution_count": 63,
      "outputs": [
        {
          "output_type": "execute_result",
          "data": {
            "text/plain": [
              "0.25*x**4 + 0.333333333333333*x**3 - x**2"
            ],
            "text/latex": "$\\displaystyle 0.25 x^{4} + 0.333333333333333 x^{3} - x^{2}$"
          },
          "metadata": {},
          "execution_count": 63
        }
      ]
    },
    {
      "cell_type": "code",
      "source": [
        "dh = h(x).diff()\n",
        "c = sym.solve(dh, x)\n",
        "c"
      ],
      "metadata": {
        "colab": {
          "base_uri": "https://localhost:8080/"
        },
        "id": "HoRtOz3n3mCP",
        "outputId": "ec88de1f-62c7-4d7e-bce4-6e16c632ffec"
      },
      "id": "HoRtOz3n3mCP",
      "execution_count": 64,
      "outputs": [
        {
          "output_type": "execute_result",
          "data": {
            "text/plain": [
              "[-2.00000000000000, 0.0, 1.00000000000000]"
            ]
          },
          "metadata": {},
          "execution_count": 64
        }
      ]
    },
    {
      "cell_type": "code",
      "source": [
        "ddh = dh.diff()\n",
        "[ddh.subs(x, ci) for ci in c]"
      ],
      "metadata": {
        "colab": {
          "base_uri": "https://localhost:8080/"
        },
        "id": "whVqM5xv3qIK",
        "outputId": "dae2c23e-f172-4493-98db-251ea9adcaf5"
      },
      "id": "whVqM5xv3qIK",
      "execution_count": 65,
      "outputs": [
        {
          "output_type": "execute_result",
          "data": {
            "text/plain": [
              "[6.00000000000000, -2, 3.00000000000000]"
            ]
          },
          "metadata": {},
          "execution_count": 65
        }
      ]
    },
    {
      "cell_type": "code",
      "source": [
        "x_num = np.linspace(-3, 1.7, 400)\n",
        "y_num = [h(val) for val in x_num]\n",
        "\n",
        "plt.plot(x_num, y_num)\n",
        "\n",
        "for ci in c:\n",
        "    if ci.is_real and -3 <= ci <= 1.7:\n",
        "        ci_f = float(ci)\n",
        "        plt.plot(ci_f, float(h(ci_f)), 'r*', ms=10)\n",
        "        plt.text(ci_f, float(h(ci_f))+1, f'({ci_f:.2f},{float(h(ci_f)):.2f})', fontsize=12)\n",
        "\n",
        "plt.grid()\n",
        "plt.show()"
      ],
      "metadata": {
        "colab": {
          "base_uri": "https://localhost:8080/",
          "height": 430
        },
        "id": "O3Z2dCix3to4",
        "outputId": "5afca12f-63b7-496a-cf34-249623590018"
      },
      "id": "O3Z2dCix3to4",
      "execution_count": 66,
      "outputs": [
        {
          "output_type": "display_data",
          "data": {
            "text/plain": [
              "<Figure size 640x480 with 1 Axes>"
            ],
            "image/png": "[encoded data removed]"
          },
          "metadata": {}
        }
      ]
    },
    {
      "cell_type": "markdown",
      "id": "4fdfe534",
      "metadata": {
        "id": "4fdfe534"
      },
      "source": [
        "7. $f(x)=100(1+\\cos(x)\\sin(x))$, para $x\\in[0.\\frac{\\pi}{2}]$"
      ]
    },
    {
      "cell_type": "code",
      "execution_count": 67,
      "id": "354e304b",
      "metadata": {
        "id": "354e304b"
      },
      "outputs": [],
      "source": [
        "import sympy as sym\n",
        "import matplotlib.pyplot as plt\n",
        "import numpy as np"
      ]
    },
    {
      "cell_type": "code",
      "source": [
        "x = sym.var('x')\n",
        "def h(x):\n",
        "  return 100*(1 + sym.cos(x)*sym.sin(x))\n",
        "\n",
        "h(x)"
      ],
      "metadata": {
        "colab": {
          "base_uri": "https://localhost:8080/",
          "height": 38
        },
        "id": "ZBvMdVla4D1e",
        "outputId": "7b35ace8-4633-4bd0-f94c-2968939cf807"
      },
      "id": "ZBvMdVla4D1e",
      "execution_count": 68,
      "outputs": [
        {
          "output_type": "execute_result",
          "data": {
            "text/plain": [
              "100*sin(x)*cos(x) + 100"
            ],
            "text/latex": "$\\displaystyle 100 \\sin{\\left(x \\right)} \\cos{\\left(x \\right)} + 100$"
          },
          "metadata": {},
          "execution_count": 68
        }
      ]
    }
  ],
  "metadata": {
    "kernelspec": {
      "display_name": "Python 3",
      "language": "python",
      "name": "python3"
    },
    "language_info": {
      "codemirror_mode": {
        "name": "ipython",
        "version": 3
      },
      "file_extension": ".py",
      "mimetype": "text/x-python",
      "name": "python",
      "nbconvert_exporter": "python",
      "pygments_lexer": "ipython3",
      "version": "3.8.8"
    },
    "colab": {
      "provenance": []
    }
  },
  "nbformat": 4,
  "nbformat_minor": 5
}